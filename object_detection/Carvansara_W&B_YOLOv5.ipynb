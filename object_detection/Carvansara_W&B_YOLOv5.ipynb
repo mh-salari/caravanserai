{
  "nbformat": 4,
  "nbformat_minor": 0,
  "metadata": {
    "accelerator": "GPU",
    "colab": {
      "name": "Carvansara_W&B_YOLOv5.ipynb",
      "provenance": [],
      "collapsed_sections": []
    },
    "kernelspec": {
      "display_name": "Python 3",
      "name": "python3"
    }
  },
  "cells": [
    {
      "cell_type": "markdown",
      "metadata": {
        "id": "7mGmQbAO5pQb"
      },
      "source": [
        "# Setup\n",
        "\n",
        "Clone YOLOv5 repo, install dependencies and check PyTorch and GPU."
      ]
    },
    {
      "cell_type": "code",
      "metadata": {
        "colab": {
          "base_uri": "https://localhost:8080/"
        },
        "id": "wbvMlHd_QwMG",
        "outputId": "f9445519-8e81-4d1a-9ff8-4a47229551fa"
      },
      "source": [
        "!git clone https://github.com/mh-salari/yolov5  # clone repo\n",
        "%cd yolov5\n",
        "%pip install -qr requirements.txt  # install dependencies\n",
        "from IPython.display import Image, clear_output\n",
        "\n",
        "clear_output()\n",
        "\n",
        "print('Instaling YOLOv5 completed')"
      ],
      "execution_count": null,
      "outputs": [
        {
          "output_type": "stream",
          "name": "stdout",
          "text": [
            "Instaling YOLOv5 completed\n"
          ]
        }
      ]
    },
    {
      "cell_type": "code",
      "metadata": {
        "colab": {
          "base_uri": "https://localhost:8080/"
        },
        "id": "fBJCGAUiMhG5",
        "outputId": "d55cc715-caf6-46c5-96f9-8e05aeac8efd"
      },
      "source": [
        "import torch\n",
        "clear_output()\n",
        "print('Setup completed. Using torch %s %s' % (torch.__version__, torch.cuda.get_device_properties(0) if torch.cuda.is_available() else 'CPU'))"
      ],
      "execution_count": null,
      "outputs": [
        {
          "output_type": "stream",
          "name": "stdout",
          "text": [
            "Setup completed. Using torch 1.9.0+cu102 _CudaDeviceProperties(name='Tesla K80', major=3, minor=7, total_memory=11441MB, multi_processor_count=13)\n"
          ]
        }
      ]
    },
    {
      "cell_type": "code",
      "metadata": {
        "colab": {
          "base_uri": "https://localhost:8080/"
        },
        "id": "6OOw1YnxLt9x",
        "outputId": "bd967de4-3eeb-49c1-ddd2-fb5dbab1b900"
      },
      "source": [
        "!nvidia-smi"
      ],
      "execution_count": null,
      "outputs": [
        {
          "output_type": "stream",
          "name": "stdout",
          "text": [
            "Wed Sep 15 20:26:33 2021       \n",
            "+-----------------------------------------------------------------------------+\n",
            "| NVIDIA-SMI 470.63.01    Driver Version: 460.32.03    CUDA Version: 11.2     |\n",
            "|-------------------------------+----------------------+----------------------+\n",
            "| GPU  Name        Persistence-M| Bus-Id        Disp.A | Volatile Uncorr. ECC |\n",
            "| Fan  Temp  Perf  Pwr:Usage/Cap|         Memory-Usage | GPU-Util  Compute M. |\n",
            "|                               |                      |               MIG M. |\n",
            "|===============================+======================+======================|\n",
            "|   0  Tesla K80           Off  | 00000000:00:04.0 Off |                    0 |\n",
            "| N/A   71C    P8    32W / 149W |      3MiB / 11441MiB |      0%      Default |\n",
            "|                               |                      |                  N/A |\n",
            "+-------------------------------+----------------------+----------------------+\n",
            "                                                                               \n",
            "+-----------------------------------------------------------------------------+\n",
            "| Processes:                                                                  |\n",
            "|  GPU   GI   CI        PID   Type   Process name                  GPU Memory |\n",
            "|        ID   ID                                                   Usage      |\n",
            "|=============================================================================|\n",
            "|  No running processes found                                                 |\n",
            "+-----------------------------------------------------------------------------+\n"
          ]
        }
      ]
    },
    {
      "cell_type": "markdown",
      "metadata": {
        "id": "kD4S2MnqIOOP"
      },
      "source": [
        "# Prepare dataset"
      ]
    },
    {
      "cell_type": "code",
      "metadata": {
        "colab": {
          "base_uri": "https://localhost:8080/"
        },
        "id": "8grDwiwaSAJV",
        "outputId": "550879d8-5683-4e67-fba9-f8baad484c0c"
      },
      "source": [
        "from google.colab import drive\n",
        "drive.mount('/content/drive/')"
      ],
      "execution_count": null,
      "outputs": [
        {
          "output_type": "stream",
          "name": "stdout",
          "text": [
            "Mounted at /content/drive/\n"
          ]
        }
      ]
    },
    {
      "cell_type": "code",
      "metadata": {
        "id": "BwZXTzUsS0jE"
      },
      "source": [
        "!unzip -q \"/content/drive/MyDrive/AI-ML/datasets/carvansara_yolo.zip\" -d \"/content\"\n",
        "!unzip -q \"/content/drive/MyDrive/AI-ML/datasets/caravansara_yolo_newdata.zip\" -d \"/content\"\n",
        "!cp -R /content/caravansara_yolo_newdata/* /content/carvansara_yolo\n"
      ],
      "execution_count": null,
      "outputs": []
    },
    {
      "cell_type": "code",
      "metadata": {
        "id": "bXa2ScuTVBGp"
      },
      "source": [
        "dataset_yaml_txt= \"\"\"\n",
        "# train and val data \n",
        "train: /content/carvansara_yolo/train\n",
        "val: /content/carvansara_yolo/test\n",
        "\n",
        "# number of classes\n",
        "nc: 1\n",
        "\n",
        "# class names\n",
        "names: ['carvansara',]\n",
        "\"\"\"\n",
        "\n",
        "with open(\"data/carvansara.yaml\", \"w\") as f:\n",
        "    f.write(dataset_yaml_txt)"
      ],
      "execution_count": null,
      "outputs": []
    },
    {
      "cell_type": "markdown",
      "metadata": {
        "id": "DLI1JmHU7B0l"
      },
      "source": [
        "## Weights & Biases Logging\n",
        "\n",
        "\n"
      ]
    },
    {
      "cell_type": "code",
      "metadata": {
        "colab": {
          "base_uri": "https://localhost:8080/"
        },
        "id": "fT5jrljo4fa4",
        "outputId": "86d6f6aa-6055-472f-e093-d468cfffcaff"
      },
      "source": [
        "!pip install wandb\n",
        "!wandb login 8547bbc8a42f4383966c0fc9c58a7520d51fa485\n",
        "clear_output()\n",
        "print(\"Weights & Biases Setup completed.\")"
      ],
      "execution_count": null,
      "outputs": [
        {
          "output_type": "stream",
          "name": "stdout",
          "text": [
            "Weights & Biases Setup completed.\n"
          ]
        }
      ]
    },
    {
      "cell_type": "markdown",
      "metadata": {
        "id": "Sa2lYTlwOJXC"
      },
      "source": [
        "# Train the models"
      ]
    },
    {
      "cell_type": "code",
      "metadata": {
        "id": "b0LO0tDOFNV_"
      },
      "source": [
        "hyp = \"\"\"\n",
        "lr0: 0.001  # initial learning rate (SGD=1E-2, Adam=1E-3)\n",
        "lrf: 0.2  # final OneCycleLR learning rate (lr0 * lrf)\n",
        "momentum: 0.937  # SGD momentum/Adam beta1\n",
        "weight_decay: 0.05  # optimizer weight decay 5e-4 #0.0005\n",
        "warmup_epochs: 3.0  # warmup epochs (fractions ok)\n",
        "warmup_momentum: 0.8  # warmup initial momentum\n",
        "warmup_bias_lr: 0.1  # warmup initial bias lr\n",
        "box: 0.05  # box loss gain\n",
        "cls: 0.5  # cls loss gain\n",
        "cls_pw: 1.0  # cls BCELoss positive_weight\n",
        "obj: 1.0  # obj loss gain (scale with pixels)\n",
        "obj_pw: 1.0  # obj BCELoss positive_weight\n",
        "iou_t: 0.20  # IoU training threshold\n",
        "anchor_t: 4.0  # anchor-multiple threshold\n",
        "# anchors: 3  # anchors per output layer (0 to ignore)\n",
        "fl_gamma: 0.0  # focal loss gamma (efficientDet default gamma=1.5)\n",
        "hsv_h: 0.015  # image HSV-Hue augmentation (fraction)\n",
        "hsv_s: 0.7  # image HSV-Saturation augmentation (fraction)\n",
        "hsv_v: 0.4  # image HSV-Value augmentation (fraction)\n",
        "degrees: 15.0  # image rotation (+/- deg) 75\n",
        "translate: 0.1  # image translation (+/- fraction)\n",
        "scale: 0.45  # image scale (+/- gain)\n",
        "shear: 0.001  # image shear (+/- deg)\n",
        "perspective: 0.0  # image perspective (+/- fraction), range 0-0.001\n",
        "flipud: 0.5  # image flip up-down (probability)\n",
        "fliplr: 0.5  # image flip left-right (probability)\n",
        "mosaic: 0.0 # image mosaic (probability)\n",
        "mixup: 0.0  # image mixup (probability)\n",
        "copy_paste: 0.0  # segment copy-paste (probability)\n",
        "\"\"\"\n",
        "with open(\"/content/yolov5/data/n_hyp.scratch.yaml\", \"w\") as f:\n",
        "    f.write(hyp)"
      ],
      "execution_count": null,
      "outputs": []
    },
    {
      "cell_type": "code",
      "metadata": {
        "id": "QWpoyqWCoPJr"
      },
      "source": [
        "# !python train.py --epochs 10 --data carvansara.yaml --weights yolov5s.pt --cache --evolve"
      ],
      "execution_count": null,
      "outputs": []
    },
    {
      "cell_type": "code",
      "metadata": {
        "id": "-08ouuOmAYVE"
      },
      "source": [
        "name = \"scale_invariant_r\""
      ],
      "execution_count": null,
      "outputs": []
    },
    {
      "cell_type": "code",
      "metadata": {
        "colab": {
          "base_uri": "https://localhost:8080/"
        },
        "id": "vwYZPJgO96Lo",
        "outputId": "03cbed68-e9c9-46b3-8607-8107c0d10343"
      },
      "source": [
        "!python train.py  --img 576 --batch 4 --epochs 30  --single-cls --project \"carvansara\" --name {name}  --hyp \"data/n_hyp.scratch.yaml\" --data carvansara.yaml --weights yolov5s.pt"
      ],
      "execution_count": null,
      "outputs": [
        {
          "output_type": "stream",
          "name": "stdout",
          "text": [
            "\u001b[34m\u001b[1mtrain: \u001b[0mweights=yolov5s.pt, cfg=, data=carvansara.yaml, hyp=data/n_hyp.scratch.yaml, epochs=30, batch_size=4, imgsz=576, rect=False, resume=False, nosave=False, noval=False, noautoanchor=False, evolve=None, bucket=, cache=None, image_weights=False, device=, multi_scale=False, single_cls=True, adam=False, sync_bn=False, workers=8, project=carvansara, entity=None, name=scale_invariant_r, exist_ok=False, quad=False, linear_lr=False, label_smoothing=0.0, upload_dataset=False, bbox_interval=-1, save_period=-1, artifact_alias=latest, local_rank=-1, freeze=0, patience=100\n",
            "\u001b[34m\u001b[1mgithub: \u001b[0mup to date with https://github.com/mh-salari/yolov5 ✅\n",
            "YOLOv5 🚀 v5.0-436-g4f1fc32 torch 1.9.0+cu102 CUDA:0 (Tesla K80, 11441.1875MB)\n",
            "\n",
            "\u001b[34m\u001b[1mhyperparameters: \u001b[0mlr0=0.001, lrf=0.2, momentum=0.937, weight_decay=0.05, warmup_epochs=3.0, warmup_momentum=0.8, warmup_bias_lr=0.1, box=0.05, cls=0.5, cls_pw=1.0, obj=1.0, obj_pw=1.0, iou_t=0.2, anchor_t=4.0, fl_gamma=0.0, hsv_h=0.015, hsv_s=0.7, hsv_v=0.4, degrees=15.0, translate=0.1, scale=0.45, shear=0.001, perspective=0.0, flipud=0.5, fliplr=0.5, mosaic=0.0, mixup=0.0, copy_paste=0.0\n",
            "\u001b[34m\u001b[1mTensorBoard: \u001b[0mStart with 'tensorboard --logdir carvansara', view at http://localhost:6006/\n",
            "\u001b[34m\u001b[1mwandb\u001b[0m: Currently logged in as: \u001b[33mmh_salari\u001b[0m (use `wandb login --relogin` to force relogin)\n",
            "\u001b[34m\u001b[1mwandb\u001b[0m: Tracking run with wandb version 0.12.2\n",
            "\u001b[34m\u001b[1mwandb\u001b[0m: Syncing run \u001b[33mscale_invariant_r\u001b[0m\n",
            "\u001b[34m\u001b[1mwandb\u001b[0m: ⭐️ View project at \u001b[34m\u001b[4mhttps://wandb.ai/mh_salari/carvansara\u001b[0m\n",
            "\u001b[34m\u001b[1mwandb\u001b[0m: 🚀 View run at \u001b[34m\u001b[4mhttps://wandb.ai/mh_salari/carvansara/runs/ypnu0rl4\u001b[0m\n",
            "\u001b[34m\u001b[1mwandb\u001b[0m: Run data is saved locally in /content/yolov5/wandb/run-20210915_202823-ypnu0rl4\n",
            "\u001b[34m\u001b[1mwandb\u001b[0m: Run `wandb offline` to turn off syncing.\n",
            "\n",
            "Downloading https://github.com/ultralytics/yolov5/releases/download/v5.0/yolov5s.pt to yolov5s.pt...\n",
            "100% 14.1M/14.1M [00:00<00:00, 20.0MB/s]\n",
            "\n",
            "Overriding model.yaml nc=80 with nc=1\n",
            "\n",
            "                 from  n    params  module                                  arguments                     \n",
            "  0                -1  1      3520  models.common.Focus                     [3, 32, 3]                    \n",
            "  1                -1  1     18560  models.common.Conv                      [32, 64, 3, 2]                \n",
            "  2                -1  1     18816  models.common.C3                        [64, 64, 1]                   \n",
            "  3                -1  1     73984  models.common.Conv                      [64, 128, 3, 2]               \n",
            "  4                -1  3    156928  models.common.C3                        [128, 128, 3]                 \n",
            "  5                -1  1    295424  models.common.Conv                      [128, 256, 3, 2]              \n",
            "  6                -1  3    625152  models.common.C3                        [256, 256, 3]                 \n",
            "  7                -1  1   1180672  models.common.Conv                      [256, 512, 3, 2]              \n",
            "  8                -1  1    656896  models.common.SPP                       [512, 512, [5, 9, 13]]        \n",
            "  9                -1  1   1182720  models.common.C3                        [512, 512, 1, False]          \n",
            " 10                -1  1    131584  models.common.Conv                      [512, 256, 1, 1]              \n",
            " 11                -1  1         0  torch.nn.modules.upsampling.Upsample    [None, 2, 'nearest']          \n",
            " 12           [-1, 6]  1         0  models.common.Concat                    [1]                           \n",
            " 13                -1  1    361984  models.common.C3                        [512, 256, 1, False]          \n",
            " 14                -1  1     33024  models.common.Conv                      [256, 128, 1, 1]              \n",
            " 15                -1  1         0  torch.nn.modules.upsampling.Upsample    [None, 2, 'nearest']          \n",
            " 16           [-1, 4]  1         0  models.common.Concat                    [1]                           \n",
            " 17                -1  1     90880  models.common.C3                        [256, 128, 1, False]          \n",
            " 18                -1  1    147712  models.common.Conv                      [128, 128, 3, 2]              \n",
            " 19          [-1, 14]  1         0  models.common.Concat                    [1]                           \n",
            " 20                -1  1    296448  models.common.C3                        [256, 256, 1, False]          \n",
            " 21                -1  1    590336  models.common.Conv                      [256, 256, 3, 2]              \n",
            " 22          [-1, 10]  1         0  models.common.Concat                    [1]                           \n",
            " 23                -1  1   1182720  models.common.C3                        [512, 512, 1, False]          \n",
            " 24      [17, 20, 23]  1     16182  models.yolo.Detect                      [1, [[10, 13, 16, 30, 33, 23], [30, 61, 62, 45, 59, 119], [116, 90, 156, 198, 373, 326]], [128, 256, 512]]\n",
            "Model Summary: 283 layers, 7063542 parameters, 7063542 gradients, 16.4 GFLOPs\n",
            "\n",
            "Transferred 356/362 items from yolov5s.pt\n",
            "Scaled weight_decay = 0.05\n",
            "\u001b[34m\u001b[1moptimizer:\u001b[0m SGD with parameter groups 59 weight, 62 weight (no decay), 62 bias\n",
            "\u001b[34m\u001b[1malbumentations: \u001b[0mversion 1.0.3 required by YOLOv5, but version 0.1.12 is currently installed\n",
            "\u001b[34m\u001b[1mtrain: \u001b[0mScanning '/content/carvansara_yolo/train/labels' images and labels...1463 found, 0 missing, 1206 empty, 0 corrupted: 100% 1463/1463 [00:01<00:00, 1010.59it/s]\n",
            "\u001b[34m\u001b[1mtrain: \u001b[0mNew cache created: /content/carvansara_yolo/train/labels.cache\n",
            "\u001b[34m\u001b[1mval: \u001b[0mScanning '/content/carvansara_yolo/test/labels' images and labels...362 found, 0 missing, 300 empty, 0 corrupted: 100% 362/362 [00:00<00:00, 533.38it/s]\n",
            "\u001b[34m\u001b[1mval: \u001b[0mNew cache created: /content/carvansara_yolo/test/labels.cache\n",
            "[W pthreadpool-cpp.cc:90] Warning: Leaking Caffe2 thread-pool after fork. (function pthreadpool)\n",
            "[W pthreadpool-cpp.cc:90] Warning: Leaking Caffe2 thread-pool after fork. (function pthreadpool)\n",
            "Plotting labels... \n",
            "\n",
            "\u001b[34m\u001b[1mautoanchor: \u001b[0mAnalyzing anchors... anchors/target = 4.16, Best Possible Recall (BPR) = 1.0000\n",
            "Image sizes 576 train, 576 val\n",
            "Using 2 dataloader workers\n",
            "Logging results to \u001b[1mcarvansara/scale_invariant_r\u001b[0m\n",
            "Starting training for 30 epochs...\n",
            "\n",
            "     Epoch   gpu_mem       box       obj       cls    labels  img_size\n",
            "      0/29     0.77G   0.02911  0.009922         0         0       576: 100% 366/366 [01:48<00:00,  3.39it/s]\n",
            "               Class     Images     Labels          P          R     mAP@.5 mAP@.5:.95: 100% 46/46 [00:09<00:00,  5.01it/s]\n",
            "                 all        362         62    0.00728     0.0645     0.0029   0.000567\n",
            "\n",
            "     Epoch   gpu_mem       box       obj       cls    labels  img_size\n",
            "      1/29    0.868G   0.02237  0.006099         0         0       576: 100% 366/366 [01:41<00:00,  3.59it/s]\n",
            "               Class     Images     Labels          P          R     mAP@.5 mAP@.5:.95: 100% 46/46 [00:08<00:00,  5.29it/s]\n",
            "                 all        362         62     0.0145     0.0968    0.00618    0.00117\n",
            "\n",
            "     Epoch   gpu_mem       box       obj       cls    labels  img_size\n",
            "      2/29    0.868G   0.01821    0.0047         0         0       576: 100% 366/366 [01:41<00:00,  3.61it/s]\n",
            "               Class     Images     Labels          P          R     mAP@.5 mAP@.5:.95: 100% 46/46 [00:11<00:00,  4.08it/s]\n",
            "                 all        362         62     0.0804      0.258     0.0523     0.0109\n",
            "\n",
            "     Epoch   gpu_mem       box       obj       cls    labels  img_size\n",
            "      3/29    0.868G   0.01522  0.003835         0         0       576: 100% 366/366 [01:41<00:00,  3.62it/s]\n",
            "               Class     Images     Labels          P          R     mAP@.5 mAP@.5:.95: 100% 46/46 [00:08<00:00,  5.68it/s]\n",
            "                 all        362         62      0.366      0.452      0.336     0.0931\n",
            "\n",
            "     Epoch   gpu_mem       box       obj       cls    labels  img_size\n",
            "      4/29    0.868G   0.01395  0.003429         0         0       576: 100% 366/366 [01:41<00:00,  3.61it/s]\n",
            "               Class     Images     Labels          P          R     mAP@.5 mAP@.5:.95: 100% 46/46 [00:08<00:00,  5.66it/s]\n",
            "                 all        362         62      0.367      0.484      0.367      0.182\n",
            "\n",
            "     Epoch   gpu_mem       box       obj       cls    labels  img_size\n",
            "      5/29    0.868G   0.01296  0.003208         0         0       576: 100% 366/366 [01:41<00:00,  3.62it/s]\n",
            "               Class     Images     Labels          P          R     mAP@.5 mAP@.5:.95: 100% 46/46 [00:10<00:00,  4.26it/s]\n",
            "                 all        362         62      0.514      0.478      0.467      0.228\n",
            "\n",
            "     Epoch   gpu_mem       box       obj       cls    labels  img_size\n",
            "      6/29    0.868G   0.01189  0.003088         0         0       576: 100% 366/366 [01:41<00:00,  3.62it/s]\n",
            "               Class     Images     Labels          P          R     mAP@.5 mAP@.5:.95: 100% 46/46 [00:08<00:00,  5.73it/s]\n",
            "                 all        362         62      0.564      0.564      0.527      0.265\n",
            "\n",
            "     Epoch   gpu_mem       box       obj       cls    labels  img_size\n",
            "      7/29    0.868G  0.009917  0.002943         0         0       576: 100% 366/366 [01:41<00:00,  3.62it/s]\n",
            "               Class     Images     Labels          P          R     mAP@.5 mAP@.5:.95: 100% 46/46 [00:08<00:00,  5.73it/s]\n",
            "                 all        362         62      0.479      0.645      0.547      0.196\n",
            "\n",
            "     Epoch   gpu_mem       box       obj       cls    labels  img_size\n",
            "      8/29    0.868G    0.0106   0.00288         0         0       576: 100% 366/366 [01:41<00:00,  3.62it/s]\n",
            "               Class     Images     Labels          P          R     mAP@.5 mAP@.5:.95: 100% 46/46 [00:10<00:00,  4.32it/s]\n",
            "                 all        362         62      0.651      0.613      0.633      0.344\n",
            "\n",
            "     Epoch   gpu_mem       box       obj       cls    labels  img_size\n",
            "      9/29    0.868G   0.01001  0.002817         0         0       576: 100% 366/366 [01:41<00:00,  3.62it/s]\n",
            "               Class     Images     Labels          P          R     mAP@.5 mAP@.5:.95: 100% 46/46 [00:07<00:00,  5.83it/s]\n",
            "                 all        362         62      0.696      0.597      0.631      0.324\n",
            "\n",
            "     Epoch   gpu_mem       box       obj       cls    labels  img_size\n",
            "     10/29    0.868G   0.01008  0.002688         0         0       576: 100% 366/366 [01:41<00:00,  3.62it/s]\n",
            "               Class     Images     Labels          P          R     mAP@.5 mAP@.5:.95: 100% 46/46 [00:08<00:00,  5.68it/s]\n",
            "                 all        362         62      0.635      0.548      0.581      0.166\n",
            "\n",
            "     Epoch   gpu_mem       box       obj       cls    labels  img_size\n",
            "     11/29    0.868G  0.009418  0.002664         0         0       576: 100% 366/366 [01:41<00:00,  3.61it/s]\n",
            "               Class     Images     Labels          P          R     mAP@.5 mAP@.5:.95: 100% 46/46 [00:10<00:00,  4.25it/s]\n",
            "                 all        362         62      0.654       0.64       0.66      0.253\n",
            "\n",
            "     Epoch   gpu_mem       box       obj       cls    labels  img_size\n",
            "     12/29    0.868G   0.01009  0.002538         0         0       576: 100% 366/366 [01:41<00:00,  3.62it/s]\n",
            "               Class     Images     Labels          P          R     mAP@.5 mAP@.5:.95: 100% 46/46 [00:08<00:00,  5.71it/s]\n",
            "                 all        362         62      0.794      0.558      0.682      0.292\n",
            "\n",
            "     Epoch   gpu_mem       box       obj       cls    labels  img_size\n",
            "     13/29    0.868G  0.009261  0.002381         0         0       576: 100% 366/366 [01:41<00:00,  3.61it/s]\n",
            "               Class     Images     Labels          P          R     mAP@.5 mAP@.5:.95: 100% 46/46 [00:08<00:00,  5.69it/s]\n",
            "                 all        362         62      0.792      0.677        0.7      0.353\n",
            "\n",
            "     Epoch   gpu_mem       box       obj       cls    labels  img_size\n",
            "     14/29    0.868G  0.009243  0.002326         0         0       576: 100% 366/366 [01:41<00:00,  3.62it/s]\n",
            "               Class     Images     Labels          P          R     mAP@.5 mAP@.5:.95: 100% 46/46 [00:10<00:00,  4.31it/s]\n",
            "                 all        362         62      0.623      0.565      0.515      0.105\n",
            "\n",
            "     Epoch   gpu_mem       box       obj       cls    labels  img_size\n",
            "     15/29    0.868G  0.009166  0.002291         0         0       576: 100% 366/366 [01:41<00:00,  3.61it/s]\n",
            "               Class     Images     Labels          P          R     mAP@.5 mAP@.5:.95: 100% 46/46 [00:07<00:00,  5.76it/s]\n",
            "                 all        362         62      0.719       0.79      0.786      0.434\n",
            "\n",
            "     Epoch   gpu_mem       box       obj       cls    labels  img_size\n",
            "     16/29    0.868G  0.008834  0.002258         0         0       576: 100% 366/366 [01:41<00:00,  3.62it/s]\n",
            "               Class     Images     Labels          P          R     mAP@.5 mAP@.5:.95: 100% 46/46 [00:08<00:00,  5.71it/s]\n",
            "                 all        362         62      0.714      0.806      0.724      0.334\n",
            "\n",
            "     Epoch   gpu_mem       box       obj       cls    labels  img_size\n",
            "     17/29    0.868G  0.008692   0.00218         0         0       576: 100% 366/366 [01:41<00:00,  3.62it/s]\n",
            "               Class     Images     Labels          P          R     mAP@.5 mAP@.5:.95: 100% 46/46 [00:10<00:00,  4.27it/s]\n",
            "                 all        362         62      0.733      0.751      0.765      0.396\n",
            "\n",
            "     Epoch   gpu_mem       box       obj       cls    labels  img_size\n",
            "     18/29    0.868G   0.00893  0.002207         0         0       576: 100% 366/366 [01:41<00:00,  3.62it/s]\n",
            "               Class     Images     Labels          P          R     mAP@.5 mAP@.5:.95: 100% 46/46 [00:07<00:00,  5.76it/s]\n",
            "                 all        362         62      0.842      0.772      0.827       0.42\n",
            "\n",
            "     Epoch   gpu_mem       box       obj       cls    labels  img_size\n",
            "     19/29    0.868G  0.008749   0.00205         0         0       576: 100% 366/366 [01:41<00:00,  3.62it/s]\n",
            "               Class     Images     Labels          P          R     mAP@.5 mAP@.5:.95: 100% 46/46 [00:07<00:00,  5.79it/s]\n",
            "                 all        362         62       0.94      0.756      0.842      0.468\n",
            "\n",
            "     Epoch   gpu_mem       box       obj       cls    labels  img_size\n",
            "     20/29    0.868G  0.008517  0.002042         0         0       576: 100% 366/366 [01:41<00:00,  3.62it/s]\n",
            "               Class     Images     Labels          P          R     mAP@.5 mAP@.5:.95: 100% 46/46 [00:10<00:00,  4.33it/s]\n",
            "                 all        362         62      0.919      0.774      0.844      0.406\n",
            "\n",
            "     Epoch   gpu_mem       box       obj       cls    labels  img_size\n",
            "     21/29    0.868G  0.008114  0.001917         0         0       576: 100% 366/366 [01:41<00:00,  3.62it/s]\n",
            "               Class     Images     Labels          P          R     mAP@.5 mAP@.5:.95: 100% 46/46 [00:08<00:00,  5.64it/s]\n",
            "                 all        362         62      0.903      0.758       0.82      0.499\n",
            "\n",
            "     Epoch   gpu_mem       box       obj       cls    labels  img_size\n",
            "     22/29    0.868G   0.00848  0.001908         0         0       576: 100% 366/366 [01:40<00:00,  3.62it/s]\n",
            "               Class     Images     Labels          P          R     mAP@.5 mAP@.5:.95: 100% 46/46 [00:07<00:00,  5.78it/s]\n",
            "                 all        362         62      0.836      0.741       0.82      0.389\n",
            "\n",
            "     Epoch   gpu_mem       box       obj       cls    labels  img_size\n",
            "     23/29    0.868G  0.007654  0.001886         0         0       576: 100% 366/366 [01:41<00:00,  3.62it/s]\n",
            "               Class     Images     Labels          P          R     mAP@.5 mAP@.5:.95: 100% 46/46 [00:10<00:00,  4.33it/s]\n",
            "                 all        362         62        0.9      0.726      0.819      0.394\n",
            "\n",
            "     Epoch   gpu_mem       box       obj       cls    labels  img_size\n",
            "     24/29    0.868G  0.007879  0.001852         0         0       576: 100% 366/366 [01:41<00:00,  3.62it/s]\n",
            "               Class     Images     Labels          P          R     mAP@.5 mAP@.5:.95: 100% 46/46 [00:07<00:00,  5.81it/s]\n",
            "                 all        362         62      0.957      0.726      0.846      0.432\n",
            "\n",
            "     Epoch   gpu_mem       box       obj       cls    labels  img_size\n",
            "     25/29    0.868G  0.007742  0.001896         0         0       576: 100% 366/366 [01:41<00:00,  3.62it/s]\n",
            "               Class     Images     Labels          P          R     mAP@.5 mAP@.5:.95: 100% 46/46 [00:08<00:00,  5.75it/s]\n",
            "                 all        362         62      0.877      0.806      0.861      0.516\n",
            "\n",
            "     Epoch   gpu_mem       box       obj       cls    labels  img_size\n",
            "     26/29    0.868G  0.007912  0.001844         0         0       576: 100% 366/366 [01:41<00:00,  3.62it/s]\n",
            "               Class     Images     Labels          P          R     mAP@.5 mAP@.5:.95: 100% 46/46 [00:10<00:00,  4.27it/s]\n",
            "                 all        362         62      0.893      0.806      0.841       0.36\n",
            "\n",
            "     Epoch   gpu_mem       box       obj       cls    labels  img_size\n",
            "     27/29    0.868G  0.007154  0.001777         0         0       576: 100% 366/366 [01:41<00:00,  3.62it/s]\n",
            "               Class     Images     Labels          P          R     mAP@.5 mAP@.5:.95: 100% 46/46 [00:08<00:00,  5.70it/s]\n",
            "                 all        362         62      0.942       0.79      0.855      0.507\n",
            "\n",
            "     Epoch   gpu_mem       box       obj       cls    labels  img_size\n",
            "     28/29    0.868G  0.007539  0.001866         0         0       576: 100% 366/366 [01:41<00:00,  3.62it/s]\n",
            "               Class     Images     Labels          P          R     mAP@.5 mAP@.5:.95: 100% 46/46 [00:08<00:00,  5.73it/s]\n",
            "                 all        362         62      0.912      0.839      0.865      0.439\n",
            "\n",
            "     Epoch   gpu_mem       box       obj       cls    labels  img_size\n",
            "     29/29    0.868G  0.007033  0.001803         0         0       576: 100% 366/366 [01:41<00:00,  3.62it/s]\n",
            "               Class     Images     Labels          P          R     mAP@.5 mAP@.5:.95: 100% 46/46 [00:11<00:00,  3.94it/s]\n",
            "                 all        362         62      0.894      0.823      0.872      0.487\n",
            "\n",
            "30 epochs completed in 0.930 hours.\n",
            "Optimizer stripped from carvansara/scale_invariant_r/weights/last.pt, 14.4MB\n",
            "Optimizer stripped from carvansara/scale_invariant_r/weights/best.pt, 14.4MB\n",
            "\n",
            "\u001b[34m\u001b[1mwandb\u001b[0m: Waiting for W&B process to finish, PID 467\n",
            "\u001b[34m\u001b[1mwandb\u001b[0m: Program ended successfully.\n",
            "\u001b[34m\u001b[1mwandb\u001b[0m:                                                                                \n",
            "\u001b[34m\u001b[1mwandb\u001b[0m: Find user logs for this run at: /content/yolov5/wandb/run-20210915_202823-ypnu0rl4/logs/debug.log\n",
            "\u001b[34m\u001b[1mwandb\u001b[0m: Find internal logs for this run at: /content/yolov5/wandb/run-20210915_202823-ypnu0rl4/logs/debug-internal.log\n",
            "\u001b[34m\u001b[1mwandb\u001b[0m: Run summary:\n",
            "\u001b[34m\u001b[1mwandb\u001b[0m:        metrics/mAP_0.5 0.87178\n",
            "\u001b[34m\u001b[1mwandb\u001b[0m:   metrics/mAP_0.5:0.95 0.4872\n",
            "\u001b[34m\u001b[1mwandb\u001b[0m:      metrics/precision 0.89438\n",
            "\u001b[34m\u001b[1mwandb\u001b[0m:         metrics/recall 0.82258\n",
            "\u001b[34m\u001b[1mwandb\u001b[0m:         train/box_loss 0.00703\n",
            "\u001b[34m\u001b[1mwandb\u001b[0m:         train/cls_loss 0.0\n",
            "\u001b[34m\u001b[1mwandb\u001b[0m:         train/obj_loss 0.0018\n",
            "\u001b[34m\u001b[1mwandb\u001b[0m:           val/box_loss 0.01633\n",
            "\u001b[34m\u001b[1mwandb\u001b[0m:           val/cls_loss 0.0\n",
            "\u001b[34m\u001b[1mwandb\u001b[0m:           val/obj_loss 0.00157\n",
            "\u001b[34m\u001b[1mwandb\u001b[0m:                  x/lr0 0.00021\n",
            "\u001b[34m\u001b[1mwandb\u001b[0m:                  x/lr1 0.00021\n",
            "\u001b[34m\u001b[1mwandb\u001b[0m:                  x/lr2 0.00021\n",
            "\u001b[34m\u001b[1mwandb\u001b[0m: Run history:\n",
            "\u001b[34m\u001b[1mwandb\u001b[0m:        metrics/mAP_0.5 ▁▁▁▄▄▅▅▅▆▆▆▆▆▇▅▇▇▇████████████\n",
            "\u001b[34m\u001b[1mwandb\u001b[0m:   metrics/mAP_0.5:0.95 ▁▁▁▂▃▄▅▄▆▅▃▄▅▆▂▇▆▆▇▇▇█▆▆▇█▆█▇█\n",
            "\u001b[34m\u001b[1mwandb\u001b[0m:      metrics/precision ▁▁▂▄▄▅▅▄▆▆▆▆▇▇▆▆▆▆▇███▇██▇████\n",
            "\u001b[34m\u001b[1mwandb\u001b[0m:         metrics/recall ▁▁▃▅▅▅▆▆▆▆▅▆▅▇▆██▇▇▇▇▇▇▇▇█████\n",
            "\u001b[34m\u001b[1mwandb\u001b[0m:         train/box_loss █▆▅▄▃▃▃▂▂▂▂▂▂▂▂▂▂▂▂▂▁▁▁▁▁▁▁▁▁▁\n",
            "\u001b[34m\u001b[1mwandb\u001b[0m:         train/cls_loss ▁▁▁▁▁▁▁▁▁▁▁▁▁▁▁▁▁▁▁▁▁▁▁▁▁▁▁▁▁▁\n",
            "\u001b[34m\u001b[1mwandb\u001b[0m:         train/obj_loss █▅▄▃▂▂▂▂▂▂▂▂▂▂▁▁▁▁▁▁▁▁▁▁▁▁▁▁▁▁\n",
            "\u001b[34m\u001b[1mwandb\u001b[0m:           val/box_loss █▆▅▄▃▃▂▂▂▂▃▂▂▂▃▂▂▂▂▁▂▂▂▂▁▁▂▁▂▂\n",
            "\u001b[34m\u001b[1mwandb\u001b[0m:           val/cls_loss ▁▁▁▁▁▁▁▁▁▁▁▁▁▁▁▁▁▁▁▁▁▁▁▁▁▁▁▁▁▁\n",
            "\u001b[34m\u001b[1mwandb\u001b[0m:           val/obj_loss █▅▄▃▃▂▂▂▂▂▂▂▂▂▁▁▁▁▁▁▁▁▁▁▁▁▁▁▁▁\n",
            "\u001b[34m\u001b[1mwandb\u001b[0m:                  x/lr0 ▂▅█████▇▇▇▇▆▆▆▅▅▅▄▄▃▃▃▂▂▂▂▁▁▁▁\n",
            "\u001b[34m\u001b[1mwandb\u001b[0m:                  x/lr1 ▂▅█████▇▇▇▇▆▆▆▅▅▅▄▄▃▃▃▂▂▂▂▁▁▁▁\n",
            "\u001b[34m\u001b[1mwandb\u001b[0m:                  x/lr2 █▅▁▁▁▁▁▁▁▁▁▁▁▁▁▁▁▁▁▁▁▁▁▁▁▁▁▁▁▁\n",
            "\u001b[34m\u001b[1mwandb\u001b[0m: Synced 5 W&B file(s), 337 media file(s), 1 artifact file(s) and 0 other file(s)\n",
            "\u001b[34m\u001b[1mwandb\u001b[0m: \n",
            "\u001b[34m\u001b[1mwandb\u001b[0m: Synced \u001b[33mscale_invariant_r\u001b[0m: \u001b[34mhttps://wandb.ai/mh_salari/carvansara/runs/ypnu0rl4\u001b[0m\n",
            "Results saved to \u001b[1mcarvansara/scale_invariant_r\u001b[0m\n"
          ]
        }
      ]
    },
    {
      "cell_type": "markdown",
      "metadata": {
        "id": "Kh8lKEMeNNRC"
      },
      "source": [
        "## test\n"
      ]
    },
    {
      "cell_type": "code",
      "metadata": {
        "colab": {
          "base_uri": "https://localhost:8080/"
        },
        "id": "G51uV7pOnwfw",
        "outputId": "adf91009-2cd5-4234-a9be-83668780af7d"
      },
      "source": [
        "!python val.py  --project \"carvansara\" --weights carvansara/{name}/weights/best.pt --data carvansara.yaml --task val"
      ],
      "execution_count": null,
      "outputs": [
        {
          "output_type": "stream",
          "name": "stdout",
          "text": [
            "\u001b[34m\u001b[1mval: \u001b[0mdata=./data/carvansara.yaml, weights=['carvansara/scale_invariant_r/weights/best.pt'], batch_size=32, imgsz=640, conf_thres=0.001, iou_thres=0.6, task=val, device=, single_cls=False, augment=False, verbose=False, save_txt=False, save_hybrid=False, save_conf=False, save_json=False, project=carvansara, name=exp, exist_ok=False, half=False\n",
            "YOLOv5 🚀 v5.0-436-g4f1fc32 torch 1.9.0+cu102 CUDA:0 (Tesla K80, 11441.1875MB)\n",
            "\n",
            "Fusing layers... \n",
            "Model Summary: 224 layers, 7053910 parameters, 0 gradients, 16.3 GFLOPs\n",
            "\u001b[34m\u001b[1mval: \u001b[0mScanning '/content/carvansara_yolo/test/labels.cache' images and labels... 362 found, 0 missing, 300 empty, 0 corrupted: 100% 362/362 [00:00<?, ?it/s]\n",
            "\u001b[34m\u001b[1mval: \u001b[0mScanning '/content/carvansara_yolo/test/labels.cache' images and labels... 362 found, 0 missing, 300 empty, 0 corrupted: 100% 362/362 [00:00<?, ?it/s]\n",
            "\n",
            "               Class     Images     Labels          P          R     mAP@.5 mAP@.5:.95:   8% 1/12 [00:02<00:25,  2.31s/it]\u001b[A\n",
            "               Class     Images     Labels          P          R     mAP@.5 mAP@.5:.95:  17% 2/12 [00:04<00:21,  2.10s/it]\u001b[A\n",
            "               Class     Images     Labels          P          R     mAP@.5 mAP@.5:.95:  25% 3/12 [00:05<00:15,  1.75s/it]\u001b[A\n",
            "               Class     Images     Labels          P          R     mAP@.5 mAP@.5:.95:  33% 4/12 [00:07<00:13,  1.68s/it]\u001b[A\n",
            "               Class     Images     Labels          P          R     mAP@.5 mAP@.5:.95:  42% 5/12 [00:08<00:10,  1.46s/it]\u001b[A\n",
            "               Class     Images     Labels          P          R     mAP@.5 mAP@.5:.95:  50% 6/12 [00:09<00:07,  1.29s/it]\u001b[A\n",
            "               Class     Images     Labels          P          R     mAP@.5 mAP@.5:.95:  58% 7/12 [00:10<00:05,  1.16s/it]\u001b[A\n",
            "               Class     Images     Labels          P          R     mAP@.5 mAP@.5:.95:  67% 8/12 [00:11<00:04,  1.08s/it]\u001b[A\n",
            "               Class     Images     Labels          P          R     mAP@.5 mAP@.5:.95:  75% 9/12 [00:11<00:03,  1.03s/it]\u001b[A\n",
            "               Class     Images     Labels          P          R     mAP@.5 mAP@.5:.95:  83% 10/12 [00:12<00:01,  1.01it/s]\u001b[A\n",
            "               Class     Images     Labels          P          R     mAP@.5 mAP@.5:.95:  92% 11/12 [00:13<00:00,  1.04it/s]\u001b[A\n",
            "               Class     Images     Labels          P          R     mAP@.5 mAP@.5:.95: 100% 12/12 [00:14<00:00,  1.17s/it]\n",
            "                 all        362         62      0.803      0.855      0.856      0.434\n",
            "Speed: 0.5ms pre-process, 26.0ms inference, 2.9ms NMS per image at shape (32, 3, 640, 640)\n",
            "Results saved to \u001b[1mcarvansara/exp\u001b[0m\n"
          ]
        }
      ]
    },
    {
      "cell_type": "code",
      "metadata": {
        "colab": {
          "base_uri": "https://localhost:8080/"
        },
        "id": "2a9BDnmPps6A",
        "outputId": "b25cc472-b308-495a-d526-9f4502722157"
      },
      "source": [
        "%ls"
      ],
      "execution_count": null,
      "outputs": [
        {
          "name": "stdout",
          "output_type": "stream",
          "text": [
            "\u001b[0m\u001b[01;34mcarvansara\u001b[0m/      Dockerfile  \u001b[01;34mmodels\u001b[0m/            train.py        \u001b[01;34mwandb\u001b[0m/\n",
            "CONTRIBUTING.md  export.py   \u001b[01;34m__pycache__\u001b[0m/       tutorial.ipynb  yolov5s.pt\n",
            "\u001b[01;34mdata\u001b[0m/            hubconf.py  README.md          \u001b[01;34mutils\u001b[0m/\n",
            "detect.py        LICENSE     \u001b[01;32mrequirements.txt\u001b[0m*  val.py\n"
          ]
        }
      ]
    },
    {
      "cell_type": "markdown",
      "metadata": {
        "id": "bxp_zpR7OP7N"
      },
      "source": [
        "# test model"
      ]
    },
    {
      "cell_type": "code",
      "metadata": {
        "id": "ERIlsSd_2E2e",
        "colab": {
          "base_uri": "https://localhost:8080/"
        },
        "outputId": "2689bdeb-74ae-47ae-997e-6b8b2915e6be"
      },
      "source": [
        "!zip -r /content/{name}.zip /content/yolov5/carvansara/{name} "
      ],
      "execution_count": null,
      "outputs": [
        {
          "output_type": "stream",
          "name": "stdout",
          "text": [
            "  adding: content/yolov5/carvansara/scale_invariant_r/ (stored 0%)\n",
            "  adding: content/yolov5/carvansara/scale_invariant_r/train_batch1.jpg (deflated 10%)\n",
            "  adding: content/yolov5/carvansara/scale_invariant_r/results.csv (deflated 83%)\n",
            "  adding: content/yolov5/carvansara/scale_invariant_r/confusion_matrix.png (deflated 37%)\n",
            "  adding: content/yolov5/carvansara/scale_invariant_r/val_batch1_pred.jpg (deflated 10%)\n",
            "  adding: content/yolov5/carvansara/scale_invariant_r/val_batch0_pred.jpg (deflated 9%)\n",
            "  adding: content/yolov5/carvansara/scale_invariant_r/opt.yaml (deflated 45%)\n",
            "  adding: content/yolov5/carvansara/scale_invariant_r/PR_curve.png (deflated 27%)\n",
            "  adding: content/yolov5/carvansara/scale_invariant_r/weights/ (stored 0%)\n",
            "  adding: content/yolov5/carvansara/scale_invariant_r/weights/last.pt (deflated 8%)\n",
            "  adding: content/yolov5/carvansara/scale_invariant_r/weights/best.pt (deflated 8%)\n",
            "  adding: content/yolov5/carvansara/scale_invariant_r/val_batch0_labels.jpg (deflated 9%)\n",
            "  adding: content/yolov5/carvansara/scale_invariant_r/val_batch2_pred.jpg (deflated 9%)\n",
            "  adding: content/yolov5/carvansara/scale_invariant_r/results.png (deflated 9%)\n",
            "  adding: content/yolov5/carvansara/scale_invariant_r/train_batch0.jpg (deflated 11%)\n",
            "  adding: content/yolov5/carvansara/scale_invariant_r/val_batch1_labels.jpg (deflated 10%)\n",
            "  adding: content/yolov5/carvansara/scale_invariant_r/F1_curve.png (deflated 18%)\n",
            "  adding: content/yolov5/carvansara/scale_invariant_r/events.out.tfevents.1631737702.8c5cd4b2d4f9.434.0 (deflated 40%)\n",
            "  adding: content/yolov5/carvansara/scale_invariant_r/labels_correlogram.jpg (deflated 36%)\n",
            "  adding: content/yolov5/carvansara/scale_invariant_r/P_curve.png (deflated 20%)\n",
            "  adding: content/yolov5/carvansara/scale_invariant_r/labels.jpg (deflated 39%)\n",
            "  adding: content/yolov5/carvansara/scale_invariant_r/train_batch2.jpg (deflated 11%)\n",
            "  adding: content/yolov5/carvansara/scale_invariant_r/val_batch2_labels.jpg (deflated 9%)\n",
            "  adding: content/yolov5/carvansara/scale_invariant_r/hyp.yaml (deflated 43%)\n",
            "  adding: content/yolov5/carvansara/scale_invariant_r/R_curve.png (deflated 19%)\n"
          ]
        }
      ]
    },
    {
      "cell_type": "code",
      "metadata": {
        "id": "h1NFDp_92P3P"
      },
      "source": [
        "# from google.colab import files\n",
        "# files.download(\"/content/yolov5s_448_200_t0.5_s0.05.zip\")"
      ],
      "execution_count": null,
      "outputs": []
    },
    {
      "cell_type": "code",
      "metadata": {
        "id": "Kcntxt3ahMqo"
      },
      "source": [
        "!cp /content/{name}.zip \"/content/drive/MyDrive/AI-ML\""
      ],
      "execution_count": null,
      "outputs": []
    },
    {
      "cell_type": "code",
      "metadata": {
        "id": "a0ZwaPNt5qlj"
      },
      "source": [
        ""
      ],
      "execution_count": null,
      "outputs": []
    }
  ]
}
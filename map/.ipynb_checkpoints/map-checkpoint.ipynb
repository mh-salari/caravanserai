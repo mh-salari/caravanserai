{
 "cells": [
  {
   "cell_type": "markdown",
   "metadata": {},
   "source": [
    "source: https://docs.kepler.gl/docs/keplergl-jupyter"
   ]
  },
  {
   "cell_type": "code",
   "execution_count": 1,
   "metadata": {},
   "outputs": [
    {
     "data": {
      "text/html": [
       "<style>pre { white-space: pre !important; }</style>"
      ],
      "text/plain": [
       "<IPython.core.display.HTML object>"
      ]
     },
     "metadata": {},
     "output_type": "display_data"
    }
   ],
   "source": [
    "import csv\n",
    "import numpy as np\n",
    "import pandas as pd\n",
    "from keplergl import KeplerGl\n",
    "\n",
    "from IPython.core.display import HTML\n",
    "display(HTML(\"<style>pre { white-space: pre !important; }</style>\"))\n",
    "\n"
   ]
  },
  {
   "cell_type": "code",
   "execution_count": 2,
   "metadata": {},
   "outputs": [],
   "source": [
    "def load_carvansaras(path):\n",
    "    carvansaras = list()\n",
    "    with open(path) as csv_file:\n",
    "        csv_reader = csv.reader(csv_file, delimiter=\",\")\n",
    "        FIRST_LINE = True\n",
    "        for row in csv_reader:\n",
    "            if FIRST_LINE:\n",
    "                FIRST_LINE = False\n",
    "                continue\n",
    "            carvansaras.append([row[0], row[1], row[2]])\n",
    "\n",
    "    return carvansaras"
   ]
  },
  {
   "cell_type": "code",
   "execution_count": 3,
   "metadata": {},
   "outputs": [],
   "source": [
    "carvansaras = load_carvansaras(\"/home/hue/Data/codes/carvansara/dataset/test_data.csv\")"
   ]
  },
  {
   "cell_type": "code",
   "execution_count": 4,
   "metadata": {},
   "outputs": [],
   "source": [
    "names = []\n",
    "latitudes = []\n",
    "longitudes = []\n",
    "for carvansara in carvansaras:\n",
    "    names.append(carvansara[1])\n",
    "    latitude, longitude = carvansara[2].split(\",\")\n",
    "    latitudes.append(float(latitude))\n",
    "    longitudes.append(float(longitude))"
   ]
  },
  {
   "cell_type": "code",
   "execution_count": 5,
   "metadata": {},
   "outputs": [],
   "source": [
    "df = pd.DataFrame(list(zip(names, latitudes, longitudes)),\n",
    "               columns =['Name', 'Latitude', 'Longitude'])"
   ]
  },
  {
   "cell_type": "code",
   "execution_count": 6,
   "metadata": {},
   "outputs": [
    {
     "data": {
      "text/html": [
       "<div>\n",
       "<style scoped>\n",
       "    .dataframe tbody tr th:only-of-type {\n",
       "        vertical-align: middle;\n",
       "    }\n",
       "\n",
       "    .dataframe tbody tr th {\n",
       "        vertical-align: top;\n",
       "    }\n",
       "\n",
       "    .dataframe thead th {\n",
       "        text-align: right;\n",
       "    }\n",
       "</style>\n",
       "<table border=\"1\" class=\"dataframe\">\n",
       "  <thead>\n",
       "    <tr style=\"text-align: right;\">\n",
       "      <th></th>\n",
       "      <th>Name</th>\n",
       "      <th>Latitude</th>\n",
       "      <th>Longitude</th>\n",
       "    </tr>\n",
       "  </thead>\n",
       "  <tbody>\n",
       "    <tr>\n",
       "      <th>0</th>\n",
       "      <td>کاروانسرای یام</td>\n",
       "      <td>38.344328</td>\n",
       "      <td>45.834966</td>\n",
       "    </tr>\n",
       "    <tr>\n",
       "      <th>1</th>\n",
       "      <td>کاروانسرای خواجه نظر</td>\n",
       "      <td>38.977452</td>\n",
       "      <td>45.577038</td>\n",
       "    </tr>\n",
       "    <tr>\n",
       "      <th>2</th>\n",
       "      <td>کاروانسرای جمال آباد</td>\n",
       "      <td>37.271923</td>\n",
       "      <td>47.843075</td>\n",
       "    </tr>\n",
       "    <tr>\n",
       "      <th>3</th>\n",
       "      <td>کاروانسرای رباط شرق</td>\n",
       "      <td>36.266490</td>\n",
       "      <td>60.655253</td>\n",
       "    </tr>\n",
       "    <tr>\n",
       "      <th>4</th>\n",
       "      <td>کاروانسرای #نامشخص</td>\n",
       "      <td>34.891223</td>\n",
       "      <td>50.819861</td>\n",
       "    </tr>\n",
       "  </tbody>\n",
       "</table>\n",
       "</div>"
      ],
      "text/plain": [
       "                   Name   Latitude  Longitude\n",
       "0        کاروانسرای یام  38.344328  45.834966\n",
       "1  کاروانسرای خواجه نظر  38.977452  45.577038\n",
       "2  کاروانسرای جمال آباد  37.271923  47.843075\n",
       "3   کاروانسرای رباط شرق  36.266490  60.655253\n",
       "4    کاروانسرای #نامشخص  34.891223  50.819861"
      ]
     },
     "execution_count": 6,
     "metadata": {},
     "output_type": "execute_result"
    }
   ],
   "source": [
    "df.head()"
   ]
  },
  {
   "cell_type": "code",
   "execution_count": 13,
   "metadata": {},
   "outputs": [],
   "source": [
    "# # Save map_1 config to a file\n",
    "# with open('carvansara_kepler_map.py', 'w') as f:\n",
    "#     f.write('carvansara_map_config = {}'.format(carvansara.config))"
   ]
  },
  {
   "cell_type": "code",
   "execution_count": null,
   "metadata": {},
   "outputs": [],
   "source": []
  },
  {
   "cell_type": "code",
   "execution_count": 7,
   "metadata": {},
   "outputs": [],
   "source": [
    "from carvansara_kepler_map import carvansara_map_config"
   ]
  },
  {
   "cell_type": "code",
   "execution_count": 11,
   "metadata": {},
   "outputs": [
    {
     "name": "stdout",
     "output_type": "stream",
     "text": [
      "User Guide: https://docs.kepler.gl/docs/keplergl-jupyter\n"
     ]
    }
   ],
   "source": [
    "from keplergl import KeplerGl\n",
    "carvansara = KeplerGl(height=600, config=carvansara_map_config)\n",
    "\n",
    "carvansara.add_data(data=df, name='carvansara')"
   ]
  },
  {
   "cell_type": "code",
   "execution_count": 12,
   "metadata": {
    "scrolled": false
   },
   "outputs": [
    {
     "data": {
      "application/vnd.jupyter.widget-view+json": {
       "model_id": "2c1f27446ded4beaa906891ced5682ed",
       "version_major": 2,
       "version_minor": 0
      },
      "text/plain": [
       "KeplerGl(config={'version': 'v1', 'config': {'visState': {'filters': [], 'layers': [{'id': '0ek3vbl', 'type': …"
      ]
     },
     "metadata": {},
     "output_type": "display_data"
    }
   ],
   "source": [
    "carvansara"
   ]
  },
  {
   "cell_type": "code",
   "execution_count": null,
   "metadata": {},
   "outputs": [],
   "source": [
    "carvansara.save_to_html(file_name='carvansara.html')"
   ]
  },
  {
   "cell_type": "code",
   "execution_count": null,
   "metadata": {},
   "outputs": [],
   "source": [
    "def geo_distance(coordinates_from, coordinates_to):\n",
    "    return distance.distance(coordinates_from, coordinates_to).km"
   ]
  },
  {
   "cell_type": "code",
   "execution_count": null,
   "metadata": {},
   "outputs": [],
   "source": []
  },
  {
   "cell_type": "code",
   "execution_count": null,
   "metadata": {},
   "outputs": [],
   "source": [
    "locations = dwnl_ngeo_loc_df[[\"Latitude\", \"Longitude\"]].to_numpy()"
   ]
  },
  {
   "cell_type": "code",
   "execution_count": null,
   "metadata": {},
   "outputs": [],
   "source": [
    "# Compute DBSCAN\n",
    "db = DBSCAN(eps=15, min_samples=2, metric=geo_distance).fit(locations)\n",
    "core_samples_mask = np.zeros_like(db.labels_, dtype=bool)\n",
    "core_samples_mask[db.core_sample_indices_] = True\n",
    "labels = db.labels_\n",
    "\n",
    "# Number of clusters in labels, ignoring noise if present.\n",
    "n_clusters = len(set(labels)) - (1 if -1 in labels else 0)\n",
    "n_noise_ = list(labels).count(-1)"
   ]
  },
  {
   "cell_type": "code",
   "execution_count": null,
   "metadata": {},
   "outputs": [],
   "source": [
    "print('Estimated number of clusters: %d' % n_clusters)\n",
    "print('Estimated number of noise points: %d' % n_noise_)"
   ]
  },
  {
   "cell_type": "code",
   "execution_count": null,
   "metadata": {},
   "outputs": [],
   "source": [
    "labels\n",
    "# Noisy samples are given the label -1"
   ]
  },
  {
   "cell_type": "code",
   "execution_count": null,
   "metadata": {},
   "outputs": [],
   "source": [
    "dwnl_df[\"label\"] = labels"
   ]
  },
  {
   "cell_type": "code",
   "execution_count": null,
   "metadata": {},
   "outputs": [],
   "source": [
    "from map_clustering_c import map_clustering_config"
   ]
  },
  {
   "cell_type": "code",
   "execution_count": null,
   "metadata": {},
   "outputs": [],
   "source": [
    "map_clustering = KeplerGl(height=600, config=map_clustering_config)\n"
   ]
  },
  {
   "cell_type": "code",
   "execution_count": null,
   "metadata": {},
   "outputs": [],
   "source": []
  },
  {
   "cell_type": "code",
   "execution_count": null,
   "metadata": {},
   "outputs": [],
   "source": [
    "headers = [\"Name\", \"Latitude\", \"Longitude\"]\n",
    "for i in range(n_clusters):\n",
    "    clustered_dams = dwnl_df[dwnl_df[\"label\"] == i]\n",
    "    dwnl_clustered = pd.concat([clustered_dams.iloc[:,1],\n",
    "                                 clustered_dams.iloc[:,9].astype(float),\n",
    "                                 clustered_dams.iloc[:,10].astype(float)],\n",
    "                                 axis=1,\n",
    "                                 keys=headers)\n",
    "    map_clustering.add_data(data=dwnl_clustered, name=f\"nlabel:{i}\")\n",
    "#     df = pd.concat([t.iloc[:,1], t.iloc[:,6].astype(float), t.iloc[:,7].astype(float)], axis=1, keys=headers)\n",
    "#     map_clustering.add_data(data=df, name=f\"nlabel:{i}\")"
   ]
  },
  {
   "cell_type": "code",
   "execution_count": null,
   "metadata": {},
   "outputs": [],
   "source": [
    "headers = [\"Name\", \"Latitude\", \"Longitude\"]\n",
    "other_dams = dwnl_df[dwnl_df[\"label\"] == -1]\n",
    "dwnl_other = pd.concat([other_dams.iloc[:,1],\n",
    "                 other_dams.iloc[:,9].astype(float),\n",
    "                 other_dams.iloc[:,10].astype(float)],\n",
    "                 axis=1,\n",
    "                keys=headers)\n",
    "map_clustering.add_data(data=dwnl_other, name=f\"nlabel:{-1}\")"
   ]
  },
  {
   "cell_type": "code",
   "execution_count": null,
   "metadata": {
    "scrolled": false
   },
   "outputs": [],
   "source": [
    "map_clustering"
   ]
  },
  {
   "cell_type": "code",
   "execution_count": null,
   "metadata": {},
   "outputs": [],
   "source": [
    "# # Save map_1 config to a file\n",
    "# with open('map_clustering_c.py', 'w') as f:\n",
    "#    f.write('map_clustering_config = {}'.format(map_clustering.config))"
   ]
  },
  {
   "cell_type": "code",
   "execution_count": null,
   "metadata": {},
   "outputs": [],
   "source": [
    "map_clustering.save_to_html(file_name='map_clustering.html')"
   ]
  },
  {
   "cell_type": "code",
   "execution_count": null,
   "metadata": {},
   "outputs": [],
   "source": [
    "n_clusters"
   ]
  },
  {
   "cell_type": "code",
   "execution_count": null,
   "metadata": {},
   "outputs": [],
   "source": [
    "from map_check_c import map_check_config"
   ]
  },
  {
   "cell_type": "code",
   "execution_count": null,
   "metadata": {},
   "outputs": [],
   "source": [
    "cluster_num = -1"
   ]
  },
  {
   "cell_type": "code",
   "execution_count": null,
   "metadata": {},
   "outputs": [],
   "source": [
    "cluster_num+=1\n",
    "print(cluster_num)\n",
    "\n",
    "map_check = KeplerGl(height=600, config=map_check_config)\n",
    "                 \n",
    "check_dams = dwnl_df[dwnl_df[\"label\"] == cluster_num]\n",
    "ogeo_loc = pd.concat([check_dams.iloc[:,1],\n",
    "                      check_dams.iloc[:,6].astype(float),\n",
    "                      check_dams.iloc[:,7].astype(float)],\n",
    "                     axis=1,\n",
    "                     keys=headers)\n",
    "map_check.add_data(data=ogeo_loc, name=f\"old_geo_locaton\")\n",
    "\n",
    "ngeo_loc = pd.concat([check_dams.iloc[:,1],\n",
    "                      check_dams.iloc[:,9].astype(float),\n",
    "                      check_dams.iloc[:,10].astype(float)],\n",
    "                     axis=1,\n",
    "                     keys=headers)\n",
    "map_check.add_data(data=ngeo_loc, name=f\"new_geo_locaton\")\n",
    "print(ogeo_loc)\n",
    "map_check"
   ]
  },
  {
   "cell_type": "code",
   "execution_count": null,
   "metadata": {},
   "outputs": [],
   "source": [
    "ogeo_loc"
   ]
  },
  {
   "cell_type": "code",
   "execution_count": null,
   "metadata": {},
   "outputs": [],
   "source": [
    "ngeo_loc"
   ]
  },
  {
   "cell_type": "code",
   "execution_count": null,
   "metadata": {},
   "outputs": [],
   "source": []
  },
  {
   "cell_type": "code",
   "execution_count": null,
   "metadata": {},
   "outputs": [],
   "source": []
  }
 ],
 "metadata": {
  "kernelspec": {
   "display_name": "ai",
   "language": "python",
   "name": "ai"
  },
  "language_info": {
   "codemirror_mode": {
    "name": "ipython",
    "version": 3
   },
   "file_extension": ".py",
   "mimetype": "text/x-python",
   "name": "python",
   "nbconvert_exporter": "python",
   "pygments_lexer": "ipython3",
   "version": "3.8.8"
  }
 },
 "nbformat": 4,
 "nbformat_minor": 4
}

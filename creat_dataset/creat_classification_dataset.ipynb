{
 "cells": [
  {
   "cell_type": "code",
   "execution_count": 1,
   "id": "stylish-camping",
   "metadata": {},
   "outputs": [],
   "source": [
    "import os\n",
    "import glob\n",
    "import random\n",
    "from shutil import copyfile"
   ]
  },
  {
   "cell_type": "markdown",
   "id": "adjustable-navigation",
   "metadata": {},
   "source": [
    "## Find images path"
   ]
  },
  {
   "cell_type": "code",
   "execution_count": 2,
   "id": "nominated-score",
   "metadata": {},
   "outputs": [
    {
     "name": "stdout",
     "output_type": "stream",
     "text": [
      "Number of carvansara images: 319 [29.87%]\n",
      "Number of other images:      749 [70.13%]\n"
     ]
    }
   ],
   "source": [
    "carvansara_images = []\n",
    "for file in glob.glob(\"../dataset/carvansara_600x600/carvansara/*.png\"):\n",
    "    carvansara_images.append(file)\n",
    "random.shuffle(carvansara_images)\n",
    "\n",
    "other_images = []\n",
    "for file in glob.glob(\"../dataset/carvansara_600x600/other/*.png\"):\n",
    "    other_images.append(file)\n",
    "random.shuffle(other_images)\n",
    "\n",
    "num_carvansara_images = len(carvansara_images)\n",
    "num_other_images = len(other_images)\n",
    "num_total = num_carvansara_images + num_other_images\n",
    "\n",
    "print(f\"Number of carvansara images: {num_carvansara_images} [{100*num_carvansara_images/num_total:0.2f}%]\")\n",
    "print(f\"Number of other images:      {num_other_images} [{100*num_other_images/num_total:0.2f}%]\")"
   ]
  },
  {
   "cell_type": "code",
   "execution_count": null,
   "id": "strong-command",
   "metadata": {},
   "outputs": [],
   "source": []
  },
  {
   "cell_type": "markdown",
   "id": "metallic-network",
   "metadata": {},
   "source": [
    "## Split images to Validation[20%] and Train[80%] "
   ]
  },
  {
   "cell_type": "code",
   "execution_count": 3,
   "id": "continent-litigation",
   "metadata": {},
   "outputs": [
    {
     "name": "stdout",
     "output_type": "stream",
     "text": [
      "Number of carvansara images in validation set: 64\n",
      "Number of carvansara images in train set:      258\n"
     ]
    }
   ],
   "source": [
    "num_val_carvansara = 20*num_carvansara_images//100\n",
    "valid_carvansara = []\n",
    "\n",
    "for image_path in carvansara_images[:]:\n",
    "    image_name = os.path.basename(image_path)\n",
    "    base_name = image_name.replace(\"_bing_600x600.png\",\"\") if \"bing\"  in image_name  else image_name.replace(\"_google_600x600.png\",\"\")\n",
    "    valid_carvansara += [image for image in carvansara_images if base_name in image]\n",
    "    if len(valid_carvansara) >  num_val_carvansara:\n",
    "        break\n",
    "train_carvansara = [image for image in carvansara_images if image not in valid_carvansara]\n",
    "print(f\"Number of carvansara images in validation set: {len(valid_carvansara)}\")\n",
    "print(f\"Number of carvansara images in train set:      {len(train_carvansara)}\")"
   ]
  },
  {
   "cell_type": "code",
   "execution_count": 4,
   "id": "solved-ground",
   "metadata": {},
   "outputs": [],
   "source": [
    "valid_carvansara.sort()"
   ]
  },
  {
   "cell_type": "code",
   "execution_count": 5,
   "id": "cathedral-memory",
   "metadata": {},
   "outputs": [
    {
     "data": {
      "text/plain": [
       "['../dataset/carvansara_600x600/carvansara/001_bing_600x600.png',\n",
       " '../dataset/carvansara_600x600/carvansara/001_google_600x600.png',\n",
       " '../dataset/carvansara_600x600/carvansara/003_bing_600x600.png',\n",
       " '../dataset/carvansara_600x600/carvansara/003_google_600x600.png',\n",
       " '../dataset/carvansara_600x600/carvansara/007_bing_600x600.png',\n",
       " '../dataset/carvansara_600x600/carvansara/007_google_600x600.png',\n",
       " '../dataset/carvansara_600x600/carvansara/008_bing_600x600.png',\n",
       " '../dataset/carvansara_600x600/carvansara/008_google_600x600.png',\n",
       " '../dataset/carvansara_600x600/carvansara/020_bing_600x600.png',\n",
       " '../dataset/carvansara_600x600/carvansara/020_google_600x600.png']"
      ]
     },
     "execution_count": 5,
     "metadata": {},
     "output_type": "execute_result"
    }
   ],
   "source": [
    "valid_carvansara[:10]"
   ]
  },
  {
   "cell_type": "code",
   "execution_count": 6,
   "id": "parallel-borough",
   "metadata": {},
   "outputs": [
    {
     "name": "stdout",
     "output_type": "stream",
     "text": [
      "Number of other images in validation set: 150\n",
      "Number of other images in train set:      605\n"
     ]
    }
   ],
   "source": [
    "num_val_other = 20*num_other_images//100\n",
    "valid_other = []\n",
    "\n",
    "\n",
    "for image_path in other_images[:]:\n",
    "    image_name = os.path.basename(image_path)\n",
    "    base_name = image_name.replace(\"_bing_600x600.png\",\"\") if \"bing\"  in image_name  else image_name.replace(\"_google_600x600.png\",\"\")\n",
    "    valid_other += [image for image in other_images if base_name in image]\n",
    "    if len(valid_other) >  num_val_other:\n",
    "        break\n",
    "train_other = [image for image in other_images if image not in valid_other]\n",
    "print(f\"Number of other images in validation set: {len(valid_other)}\")\n",
    "print(f\"Number of other images in train set:      {len(train_other)}\")"
   ]
  },
  {
   "cell_type": "code",
   "execution_count": 7,
   "id": "5169de95",
   "metadata": {},
   "outputs": [],
   "source": [
    "train_other.sort()"
   ]
  },
  {
   "cell_type": "code",
   "execution_count": 8,
   "id": "5a7f697a",
   "metadata": {},
   "outputs": [
    {
     "data": {
      "text/plain": [
       "['../dataset/carvansara_600x600/carvansara/001_bing_600x600.png',\n",
       " '../dataset/carvansara_600x600/carvansara/001_google_600x600.png',\n",
       " '../dataset/carvansara_600x600/carvansara/003_bing_600x600.png',\n",
       " '../dataset/carvansara_600x600/carvansara/003_google_600x600.png',\n",
       " '../dataset/carvansara_600x600/carvansara/007_bing_600x600.png',\n",
       " '../dataset/carvansara_600x600/carvansara/007_google_600x600.png',\n",
       " '../dataset/carvansara_600x600/carvansara/008_bing_600x600.png',\n",
       " '../dataset/carvansara_600x600/carvansara/008_google_600x600.png',\n",
       " '../dataset/carvansara_600x600/carvansara/020_bing_600x600.png',\n",
       " '../dataset/carvansara_600x600/carvansara/020_google_600x600.png']"
      ]
     },
     "execution_count": 8,
     "metadata": {},
     "output_type": "execute_result"
    }
   ],
   "source": [
    "valid_carvansara[:10]"
   ]
  },
  {
   "cell_type": "code",
   "execution_count": 9,
   "id": "removable-procedure",
   "metadata": {},
   "outputs": [],
   "source": [
    "caransarea_train_path = os.path.join(\"../dataset/carvansara_dataset\", \"train\", \"carvansara\")\n",
    "caransarea_val_path = os.path.join(\"../dataset/carvansara_dataset\", \"valid\", \"carvansara\")\n",
    "other_train_path = os.path.join(\"../dataset/carvansara_dataset\", \"train\", \"other\")\n",
    "other_val_path = os.path.join(\"../dataset/carvansara_dataset\", \"valid\", \"other\")\n",
    "\n",
    "for path in [caransarea_train_path, caransarea_val_path, other_train_path, other_val_path]:\n",
    "    if not os.path.exists(path):\n",
    "        os.makedirs(path)"
   ]
  },
  {
   "cell_type": "code",
   "execution_count": 10,
   "id": "criminal-eating",
   "metadata": {},
   "outputs": [],
   "source": [
    "for image in train_other:\n",
    "    copyfile(image, os.path.join(other_train_path, os.path.basename(image)))"
   ]
  },
  {
   "cell_type": "code",
   "execution_count": 11,
   "id": "cleared-meter",
   "metadata": {},
   "outputs": [],
   "source": [
    "for image in train_carvansara:\n",
    "    copyfile(image, os.path.join(caransarea_train_path, os.path.basename(image)))"
   ]
  },
  {
   "cell_type": "code",
   "execution_count": 12,
   "id": "another-discovery",
   "metadata": {},
   "outputs": [],
   "source": [
    "for image in valid_other:\n",
    "    copyfile(image, os.path.join(other_val_path, os.path.basename(image)))"
   ]
  },
  {
   "cell_type": "code",
   "execution_count": 13,
   "id": "harmful-tobacco",
   "metadata": {},
   "outputs": [],
   "source": [
    "for image in valid_carvansara:\n",
    "    copyfile(image, os.path.join(caransarea_val_path, os.path.basename(image)))"
   ]
  },
  {
   "cell_type": "code",
   "execution_count": null,
   "id": "productive-child",
   "metadata": {},
   "outputs": [],
   "source": []
  }
 ],
 "metadata": {
  "kernelspec": {
   "display_name": "Python 3",
   "language": "python",
   "name": "python3"
  },
  "language_info": {
   "codemirror_mode": {
    "name": "ipython",
    "version": 3
   },
   "file_extension": ".py",
   "mimetype": "text/x-python",
   "name": "python",
   "nbconvert_exporter": "python",
   "pygments_lexer": "ipython3",
   "version": "3.8.6"
  }
 },
 "nbformat": 4,
 "nbformat_minor": 5
}

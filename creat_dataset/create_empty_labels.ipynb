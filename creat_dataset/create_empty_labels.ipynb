{
 "cells": [
  {
   "cell_type": "code",
   "execution_count": 1,
   "id": "0adc17c6",
   "metadata": {},
   "outputs": [],
   "source": [
    "import os\n",
    "import glob\n",
    "import random\n",
    "from shutil import copyfile"
   ]
  },
  {
   "cell_type": "code",
   "execution_count": 2,
   "id": "2d1a7207",
   "metadata": {},
   "outputs": [],
   "source": [
    "other_images = []\n",
    "for file in glob.glob(\"/home/hue/Codes/carvansara/dataset/caravansara_yolo_newdata/*.png\"):\n",
    "    other_images.append(file)\n",
    "random.shuffle(other_images)"
   ]
  },
  {
   "cell_type": "code",
   "execution_count": 3,
   "id": "98ca7d59",
   "metadata": {},
   "outputs": [],
   "source": [
    "num_other_images = len(other_images)"
   ]
  },
  {
   "cell_type": "code",
   "execution_count": 4,
   "id": "26a0a065",
   "metadata": {},
   "outputs": [
    {
     "name": "stdout",
     "output_type": "stream",
     "text": [
      "Number of other images: 757\n"
     ]
    }
   ],
   "source": [
    "print(f\"Number of other images: {num_other_images}\")"
   ]
  },
  {
   "cell_type": "code",
   "execution_count": null,
   "id": "e06f85bb",
   "metadata": {},
   "outputs": [],
   "source": []
  },
  {
   "cell_type": "code",
   "execution_count": 6,
   "id": "10117b34",
   "metadata": {},
   "outputs": [
    {
     "name": "stdout",
     "output_type": "stream",
     "text": [
      "Number of other images in validation set: 152\n",
      "Number of other images in train set:      605\n"
     ]
    }
   ],
   "source": [
    "num_val_other = 20*num_other_images//100\n",
    "valid_other = []\n",
    "\n",
    "\n",
    "for image_path in other_images[:]:\n",
    "    valid_other.append(image_path)\n",
    "    if len(valid_other) >  num_val_other:\n",
    "        break\n",
    "train_other = [image for image in other_images if image not in valid_other]\n",
    "print(f\"Number of other images in validation set: {len(valid_other)}\")\n",
    "print(f\"Number of other images in train set:      {len(train_other)}\")"
   ]
  },
  {
   "cell_type": "code",
   "execution_count": 7,
   "id": "cf0da539",
   "metadata": {},
   "outputs": [],
   "source": [
    "train_path = os.path.join(\"/home/hue/Codes/carvansara/dataset/caravansara_yolo_newdata\", \"train\")\n",
    "test_path = os.path.join(\"/home/hue/Codes/carvansara/dataset/caravansara_yolo_newdata\", \"test\")\n",
    "\n",
    "for path in [train_path,test_path]:\n",
    "    for subdir in [\"images\", \"labels\"]:\n",
    "        \n",
    "        if not os.path.exists(os.path.join(path, subdir)):\n",
    "            os.makedirs(os.path.join(path, subdir))"
   ]
  },
  {
   "cell_type": "code",
   "execution_count": 8,
   "id": "0a953232",
   "metadata": {},
   "outputs": [],
   "source": [
    "for image in train_other:\n",
    "    image_name = os.path.basename(image)[:-4]\n",
    "    with open(f\"{train_path}/labels/{image_name}.txt\", \"w\") as f:\n",
    "            f.write(\"\")\n",
    "    copyfile(image, os.path.join(train_path, \"images\", os.path.basename(image)))"
   ]
  },
  {
   "cell_type": "code",
   "execution_count": 9,
   "id": "8fe7e31e",
   "metadata": {},
   "outputs": [],
   "source": [
    "for image in valid_other:\n",
    "    image_name = os.path.basename(image)[:-4]\n",
    "    with open(f\"{test_path}/labels/{image_name}.txt\", \"w\") as f:\n",
    "            f.write(\"\")\n",
    "    copyfile(image, os.path.join(test_path, \"images\", os.path.basename(image)))"
   ]
  },
  {
   "cell_type": "code",
   "execution_count": 10,
   "id": "188c7ce6",
   "metadata": {},
   "outputs": [
    {
     "data": {
      "text/plain": [
       "759.0"
      ]
     },
     "execution_count": 10,
     "metadata": {},
     "output_type": "execute_result"
    }
   ],
   "source": [
    "1518/2"
   ]
  },
  {
   "cell_type": "code",
   "execution_count": null,
   "id": "464c4740",
   "metadata": {},
   "outputs": [],
   "source": []
  }
 ],
 "metadata": {
  "kernelspec": {
   "display_name": "Python 3 (ipykernel)",
   "language": "python",
   "name": "python3"
  },
  "language_info": {
   "codemirror_mode": {
    "name": "ipython",
    "version": 3
   },
   "file_extension": ".py",
   "mimetype": "text/x-python",
   "name": "python",
   "nbconvert_exporter": "python",
   "pygments_lexer": "ipython3",
   "version": "3.9.1"
  }
 },
 "nbformat": 4,
 "nbformat_minor": 5
}

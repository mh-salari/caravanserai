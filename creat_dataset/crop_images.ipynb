{
 "cells": [
  {
   "cell_type": "code",
   "execution_count": 10,
   "id": "differential-pattern",
   "metadata": {},
   "outputs": [],
   "source": [
    "import os\n",
    "import glob\n",
    "import itertools\n",
    "from PIL import Image\n",
    "from tqdm.notebook import tqdm\n",
    "from concurrent.futures import ProcessPoolExecutor"
   ]
  },
  {
   "cell_type": "code",
   "execution_count": 2,
   "id": "short-antarctica",
   "metadata": {},
   "outputs": [
    {
     "name": "stdout",
     "output_type": "stream",
     "text": [
      "Number of raw images: 534\n"
     ]
    }
   ],
   "source": [
    "raw_images = []\n",
    "for file in glob.glob(\"../dataset/raw_images/*.png\"):\n",
    "    raw_images.append(file)\n",
    "print(f\"Number of raw images: {len(raw_images)}\")"
   ]
  },
  {
   "cell_type": "code",
   "execution_count": 3,
   "id": "careful-corps",
   "metadata": {},
   "outputs": [],
   "source": [
    "crop_size = 600"
   ]
  },
  {
   "cell_type": "code",
   "execution_count": 4,
   "id": "painful-objective",
   "metadata": {},
   "outputs": [],
   "source": [
    "caransarea_path = f\"../dataset/carvansara_{crop_size}x{crop_size}/carvansara/\"\n",
    "other_path = f\"../dataset/carvansara_{crop_size}x{crop_size}/other/\"\n",
    "\n",
    "for path in [caransarea_path, other_path]:\n",
    "    if not os.path.exists(path):\n",
    "        os.makedirs(path)"
   ]
  },
  {
   "cell_type": "code",
   "execution_count": 8,
   "id": "greater-establishment",
   "metadata": {},
   "outputs": [],
   "source": [
    "def process_and_save_image(image_path, crop_size):\n",
    "    # find image name\n",
    "    image_name = os.path.basename(image_path)[:-4]\n",
    "    # find label\n",
    "    if \"g\" in image_name or \"p\" in image_name:\n",
    "        output_path = other_path\n",
    "    else:\n",
    "        output_path = caransarea_path\n",
    "    # read image\n",
    "    image = Image.open(image_path);\n",
    "    # crop google \n",
    "    x = 1920//2\n",
    "    y = 2160//4\n",
    "    w = 800\n",
    "    h = 700\n",
    "    google = image.crop((x-w//2, 3*y-h//2, x + w//2, 3*y + h//2 + 100))\n",
    "    google = google.resize((crop_size,crop_size))\n",
    "    google.save(os.path.join(output_path, f\"{image_name}_google_{crop_size}x{crop_size}.png\"))\n",
    "    # crop bing\n",
    "    x = 1920//2\n",
    "    y = 2160//4\n",
    "    w = 800\n",
    "    h = 700\n",
    "    bing = image.crop((x-w//2, y-h//2, x + w//2, y + h//2 + 100))\n",
    "    bing = bing.resize((crop_size,crop_size))\n",
    "    bing.save(os.path.join(output_path, f\"{image_name}_bing_{crop_size}x{crop_size}.png\"))"
   ]
  },
  {
   "cell_type": "code",
   "execution_count": 12,
   "id": "special-million",
   "metadata": {},
   "outputs": [
    {
     "data": {
      "application/vnd.jupyter.widget-view+json": {
       "model_id": "f89ccebfc96f4f22be4841a27ef01228",
       "version_major": 2,
       "version_minor": 0
      },
      "text/plain": [
       "HBox(children=(HTML(value=''), FloatProgress(value=0.0, max=534.0), HTML(value='')))"
      ]
     },
     "metadata": {},
     "output_type": "display_data"
    },
    {
     "name": "stdout",
     "output_type": "stream",
     "text": [
      "\n"
     ]
    }
   ],
   "source": [
    "with ProcessPoolExecutor() as executor:\n",
    "    results = list(tqdm(executor.map(process_and_save_image,\n",
    "                                     raw_images,\n",
    "                                     itertools.repeat(crop_size)),\n",
    "                                     total=len(raw_images)))"
   ]
  },
  {
   "cell_type": "code",
   "execution_count": null,
   "id": "pregnant-camcorder",
   "metadata": {},
   "outputs": [],
   "source": []
  },
  {
   "cell_type": "code",
   "execution_count": null,
   "id": "enclosed-sixth",
   "metadata": {},
   "outputs": [],
   "source": []
  }
 ],
 "metadata": {
  "kernelspec": {
   "display_name": "Python 3",
   "language": "python",
   "name": "python3"
  },
  "language_info": {
   "codemirror_mode": {
    "name": "ipython",
    "version": 3
   },
   "file_extension": ".py",
   "mimetype": "text/x-python",
   "name": "python",
   "nbconvert_exporter": "python",
   "pygments_lexer": "ipython3",
   "version": "3.8.5"
  }
 },
 "nbformat": 4,
 "nbformat_minor": 5
}

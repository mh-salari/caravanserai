{
 "cells": [
  {
   "cell_type": "code",
   "execution_count": 3,
   "id": "stylish-camping",
   "metadata": {},
   "outputs": [],
   "source": [
    "import os\n",
    "import glob\n",
    "import random\n",
    "from shutil import copyfile"
   ]
  },
  {
   "cell_type": "markdown",
   "id": "adjustable-navigation",
   "metadata": {},
   "source": [
    "## Find images path"
   ]
  },
  {
   "cell_type": "code",
   "execution_count": 4,
   "id": "young-thomas",
   "metadata": {},
   "outputs": [],
   "source": [
    "dataset_base_path = \"../dataset/carvansara_600x600\""
   ]
  },
  {
   "cell_type": "code",
   "execution_count": 5,
   "id": "nominated-score",
   "metadata": {},
   "outputs": [
    {
     "name": "stdout",
     "output_type": "stream",
     "text": [
      "Number of carvansara images: 319 [29.87%]\n",
      "Number of other images:      749 [70.13%]\n"
     ]
    }
   ],
   "source": [
    "carvansara_images = []\n",
    "for file in glob.glob(os.path.join(dataset_base_path, \"carvansara/*.png\")):\n",
    "    carvansara_images.append(file)\n",
    "random.shuffle(carvansara_images)\n",
    "\n",
    "other_images = []\n",
    "for file in glob.glob(os.path.join(dataset_base_path, \"other/*.png\")):\n",
    "    other_images.append(file)\n",
    "random.shuffle(other_images)\n",
    "\n",
    "num_carvansara_images = len(carvansara_images)\n",
    "num_other_images = len(other_images)\n",
    "num_total = num_carvansara_images + num_other_images\n",
    "\n",
    "print(f\"Number of carvansara images: {num_carvansara_images} [{100*num_carvansara_images/num_total:0.2f}%]\")\n",
    "print(f\"Number of other images:      {num_other_images} [{100*num_other_images/num_total:0.2f}%]\")"
   ]
  },
  {
   "cell_type": "markdown",
   "id": "metallic-network",
   "metadata": {},
   "source": [
    "## Split images to Validation[20%] and Train[80%] "
   ]
  },
  {
   "cell_type": "code",
   "execution_count": 4,
   "id": "continent-litigation",
   "metadata": {},
   "outputs": [
    {
     "name": "stdout",
     "output_type": "stream",
     "text": [
      "Number of carvansara images in validation set: 62\n",
      "Number of carvansara images in train set:      257\n"
     ]
    }
   ],
   "source": [
    "num_val_carvansara = 20*num_carvansara_images//100\n",
    "num_bing_carvansara = 0\n",
    "num_google_carvansara = 0\n",
    "valid_carvansara = []\n",
    "names = []\n",
    "\n",
    "for image in carvansara_images:\n",
    "    if (\"bing\" in image) and (image.replace(\"_bing_600x600.png\",\"\") not in names) and (num_bing_carvansara < num_val_carvansara//2):\n",
    "        num_bing_carvansara +=1\n",
    "        names.append(image.replace(\"_bing_300x300.png\",\"\"))\n",
    "        valid_carvansara.append(image)\n",
    "    elif (\"google\" in image) and (image.replace(\"_google_600x600.png\",\"\") not in names) and (num_google_carvansara < num_val_carvansara//2):\n",
    "        names.append(image.replace(\"_google_600x600.png\",\"\"))\n",
    "        valid_carvansara.append(image)\n",
    "        num_google_carvansara +=1\n",
    "train_carvansara = [image for image in carvansara_images if image not in valid_carvansara]\n",
    "print(f\"Number of carvansara images in validation set: {len(valid_carvansara)}\")\n",
    "print(f\"Number of carvansara images in train set:      {len(train_carvansara)}\")"
   ]
  },
  {
   "cell_type": "code",
   "execution_count": 5,
   "id": "parallel-borough",
   "metadata": {},
   "outputs": [
    {
     "name": "stdout",
     "output_type": "stream",
     "text": [
      "Number of other images in validation set: 148\n",
      "Number of other images in train set:      601\n"
     ]
    }
   ],
   "source": [
    "num_val_other = 20*num_other_images//100\n",
    "num_bing_other = 0\n",
    "num_google_other = 0\n",
    "valid_other = []\n",
    "names = []\n",
    "\n",
    "for image in other_images:\n",
    "    if (\"bing\" in image) and (image.replace(\"_bing_600x600.png\",\"\") not in names) and (num_bing_other < num_val_other//2):\n",
    "        num_bing_other +=1\n",
    "        names.append(image.replace(\"_bing_300x300.png\",\"\"))\n",
    "        valid_other.append(image)\n",
    "    elif (\"google\" in image) and (image.replace(\"_google_600x600.png\",\"\") not in names) and (num_google_other < num_val_other//2):\n",
    "        names.append(image.replace(\"_google_600x600.png\",\"\"))\n",
    "        valid_other.append(image)\n",
    "        num_google_other +=1\n",
    "train_other = [image for image in other_images if image not in valid_other]\n",
    "print(f\"Number of other images in validation set: {len(valid_other)}\")\n",
    "print(f\"Number of other images in train set:      {len(train_other)}\")"
   ]
  },
  {
   "cell_type": "code",
   "execution_count": 6,
   "id": "removable-procedure",
   "metadata": {},
   "outputs": [],
   "source": [
    "train_path = os.path.join(\"../dataset/carvansara_yolo\", \"train\")\n",
    "test_path = os.path.join(\"../dataset/carvansara_yolo\", \"test\")\n",
    "\n",
    "for path in [train_path,test_path]:\n",
    "    for subdir in [\"images\", \"labels\"]:\n",
    "        \n",
    "        if not os.path.exists(os.path.join(path, subdir)):\n",
    "            os.makedirs(os.path.join(path, subdir))"
   ]
  },
  {
   "cell_type": "code",
   "execution_count": 7,
   "id": "criminal-eating",
   "metadata": {},
   "outputs": [],
   "source": [
    "for image in train_other:\n",
    "    image_name = os.path.basename(image)[:-4]\n",
    "    with open(f\"{train_path}/labels/{image_name}.txt\", \"w\") as f:\n",
    "            f.write(\"\")\n",
    "    copyfile(image, os.path.join(train_path, \"images\", os.path.basename(image)))"
   ]
  },
  {
   "cell_type": "code",
   "execution_count": 9,
   "id": "another-discovery",
   "metadata": {},
   "outputs": [],
   "source": [
    "for image in valid_other:\n",
    "    image_name = os.path.basename(image)[:-4]\n",
    "    with open(f\"{test_path}/labels/{image_name}.txt\", \"w\") as f:\n",
    "            f.write(\"\")\n",
    "    copyfile(image, os.path.join(test_path, \"images\", os.path.basename(image)))"
   ]
  },
  {
   "cell_type": "code",
   "execution_count": 10,
   "id": "cleared-meter",
   "metadata": {},
   "outputs": [],
   "source": [
    "for image in train_carvansara:\n",
    "    image_name = os.path.basename(image)[:-4]\n",
    "    label_path = os.path.join(dataset_base_path, \"yolo_labels\", f\"{image_name}.txt\")\n",
    "    copyfile(label_path, os.path.join(train_path, \"labels\", f\"{image_name}.txt\"))\n",
    "    \n",
    "    copyfile(image, os.path.join(train_path, \"images\", os.path.basename(image)))"
   ]
  },
  {
   "cell_type": "code",
   "execution_count": 11,
   "id": "harmful-tobacco",
   "metadata": {},
   "outputs": [],
   "source": [
    "for image in valid_carvansara:\n",
    "    image_name = os.path.basename(image)[:-4]\n",
    "    label_path = os.path.join(dataset_base_path, \"yolo_labels\", f\"{image_name}.txt\")\n",
    "    copyfile(label_path, os.path.join(test_path, \"labels\", f\"{image_name}.txt\"))\n",
    "    \n",
    "    copyfile(image, os.path.join(test_path, \"images\", os.path.basename(image)))"
   ]
  },
  {
   "cell_type": "code",
   "execution_count": null,
   "id": "productive-child",
   "metadata": {},
   "outputs": [],
   "source": []
  }
 ],
 "metadata": {
  "kernelspec": {
   "display_name": "ai",
   "language": "python",
   "name": "ai"
  },
  "language_info": {
   "codemirror_mode": {
    "name": "ipython",
    "version": 3
   },
   "file_extension": ".py",
   "mimetype": "text/x-python",
   "name": "python",
   "nbconvert_exporter": "python",
   "pygments_lexer": "ipython3",
   "version": "3.8.8"
  }
 },
 "nbformat": 4,
 "nbformat_minor": 5
}

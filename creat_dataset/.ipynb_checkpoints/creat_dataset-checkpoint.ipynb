{
 "cells": [
  {
   "cell_type": "code",
   "execution_count": 14,
   "id": "stylish-camping",
   "metadata": {},
   "outputs": [],
   "source": [
    "import os\n",
    "import glob\n",
    "import random\n",
    "from shutil import copyfile"
   ]
  },
  {
   "cell_type": "markdown",
   "id": "adjustable-navigation",
   "metadata": {},
   "source": [
    "## Find images path"
   ]
  },
  {
   "cell_type": "code",
   "execution_count": 7,
   "id": "nominated-score",
   "metadata": {},
   "outputs": [
    {
     "name": "stdout",
     "output_type": "stream",
     "text": [
      "Number of carvansara images: 320 [32.13%]\n",
      "Number of other images:      676 [67.87%]\n"
     ]
    }
   ],
   "source": [
    "carvansara_images = []\n",
    "for file in glob.glob(\"../dataset/carvansara_300x300/carvansara/*.png\"):\n",
    "    carvansara_images.append(file)\n",
    "random.shuffle(carvansara_images)\n",
    "\n",
    "other_images = []\n",
    "for file in glob.glob(\"../dataset/carvansara_300x300/other/*.png\"):\n",
    "    other_images.append(file)\n",
    "random.shuffle(other_images)\n",
    "\n",
    "num_carvansara_images = len(carvansara_images)\n",
    "num_other_images = len(other_images)\n",
    "num_total = num_carvansara_images + num_other_images\n",
    "\n",
    "print(f\"Number of carvansara images: {num_carvansara_images} [{100*num_carvansara_images/num_total:0.2f}%]\")\n",
    "print(f\"Number of other images:      {num_other_images} [{100*num_other_images/num_total:0.2f}%]\")"
   ]
  },
  {
   "cell_type": "markdown",
   "id": "metallic-network",
   "metadata": {},
   "source": [
    "## Split images to Validation[20%] and Train[80%] "
   ]
  },
  {
   "cell_type": "code",
   "execution_count": 8,
   "id": "continent-litigation",
   "metadata": {},
   "outputs": [
    {
     "name": "stdout",
     "output_type": "stream",
     "text": [
      "Number of carvansara images in validation set: 64\n",
      "Number of carvansara images in train set:      256\n"
     ]
    }
   ],
   "source": [
    "num_val_carvansara = 20*num_carvansara_images//100\n",
    "num_bing_carvansara = 0\n",
    "num_google_carvansara = 0\n",
    "valid_carvansara = []\n",
    "names = []\n",
    "\n",
    "for image in carvansara_images:\n",
    "    if (\"bing\" in image) and (image.replace(\"_bing_300x300.png\",\"\") not in names) and (num_bing_carvansara < num_val_carvansara//2):\n",
    "        num_bing_carvansara +=1\n",
    "        names.append(image.replace(\"_bing_300x300.png\",\"\"))\n",
    "        valid_carvansara.append(image)\n",
    "    elif (\"google\" in image) and (image.replace(\"_google_300x300.png\",\"\") not in names) and (num_google_carvansara < num_val_carvansara//2):\n",
    "        names.append(image.replace(\"_google_300x300.png\",\"\"))\n",
    "        valid_carvansara.append(image)\n",
    "        num_google_carvansara +=1\n",
    "train_carvansara = [image for image in carvansara_images if image not in valid_carvansara]\n",
    "print(f\"Number of carvansara images in validation set: {len(valid_carvansara)}\")\n",
    "print(f\"Number of carvansara images in train set:      {len(train_carvansara)}\")"
   ]
  },
  {
   "cell_type": "code",
   "execution_count": 9,
   "id": "solved-ground",
   "metadata": {},
   "outputs": [],
   "source": [
    "valid_carvansara.sort()"
   ]
  },
  {
   "cell_type": "code",
   "execution_count": 11,
   "id": "cathedral-memory",
   "metadata": {},
   "outputs": [
    {
     "data": {
      "text/plain": [
       "['../dataset/carvansara_300x300/carvansara/004_google_300x300.png',\n",
       " '../dataset/carvansara_300x300/carvansara/006_google_300x300.png',\n",
       " '../dataset/carvansara_300x300/carvansara/007_google_300x300.png',\n",
       " '../dataset/carvansara_300x300/carvansara/008_google_300x300.png',\n",
       " '../dataset/carvansara_300x300/carvansara/011_google_300x300.png',\n",
       " '../dataset/carvansara_300x300/carvansara/014_bing_300x300.png',\n",
       " '../dataset/carvansara_300x300/carvansara/015_bing_300x300.png',\n",
       " '../dataset/carvansara_300x300/carvansara/016_bing_300x300.png',\n",
       " '../dataset/carvansara_300x300/carvansara/022_bing_300x300.png',\n",
       " '../dataset/carvansara_300x300/carvansara/026_bing_300x300.png']"
      ]
     },
     "execution_count": 11,
     "metadata": {},
     "output_type": "execute_result"
    }
   ],
   "source": [
    "valid_carvansara[:10]"
   ]
  },
  {
   "cell_type": "code",
   "execution_count": 12,
   "id": "parallel-borough",
   "metadata": {},
   "outputs": [
    {
     "name": "stdout",
     "output_type": "stream",
     "text": [
      "Number of other images in validation set: 134\n",
      "Number of other images in train set:      542\n"
     ]
    }
   ],
   "source": [
    "num_val_other = 20*num_other_images//100\n",
    "num_bing_other = 0\n",
    "num_google_other = 0\n",
    "valid_other = []\n",
    "names = []\n",
    "\n",
    "for image in other_images:\n",
    "    if (\"bing\" in image) and (image.replace(\"_bing_300x300.png\",\"\") not in names) and (num_bing_other < num_val_other//2):\n",
    "        num_bing_other +=1\n",
    "        names.append(image.replace(\"_bing_300x300.png\",\"\"))\n",
    "        valid_other.append(image)\n",
    "    elif (\"google\" in image) and (image.replace(\"_google_300x300.png\",\"\") not in names) and (num_google_other < num_val_other//2):\n",
    "        names.append(image.replace(\"_google_300x300.png\",\"\"))\n",
    "        valid_other.append(image)\n",
    "        num_google_other +=1\n",
    "train_other = [image for image in other_images if image not in valid_other]\n",
    "print(f\"Number of other images in validation set: {len(valid_other)}\")\n",
    "print(f\"Number of other images in train set:      {len(train_other)}\")"
   ]
  },
  {
   "cell_type": "code",
   "execution_count": 15,
   "id": "removable-procedure",
   "metadata": {},
   "outputs": [],
   "source": [
    "caransarea_train_path = os.path.join(\"../dataset/carvansara_dataset\", \"train\", \"carvansara\")\n",
    "caransarea_val_path = os.path.join(\"../dataset/carvansara_dataset\", \"valid\", \"carvansara\")\n",
    "other_train_path = os.path.join(\"../dataset/carvansara_dataset\", \"train\", \"other\")\n",
    "other_val_path = os.path.join(\"../dataset/carvansara_dataset\", \"valid\", \"other\")\n",
    "\n",
    "for path in [caransarea_train_path, caransarea_val_path, other_train_path, other_val_path]:\n",
    "    if not os.path.exists(path):\n",
    "        os.makedirs(path)"
   ]
  },
  {
   "cell_type": "code",
   "execution_count": 16,
   "id": "criminal-eating",
   "metadata": {},
   "outputs": [],
   "source": [
    "for image in train_other:\n",
    "    copyfile(image, os.path.join(other_train_path, os.path.basename(image)))"
   ]
  },
  {
   "cell_type": "code",
   "execution_count": 20,
   "id": "cleared-meter",
   "metadata": {},
   "outputs": [],
   "source": [
    "for image in train_carvansara:\n",
    "    copyfile(image, os.path.join(caransarea_train_path, os.path.basename(image)))"
   ]
  },
  {
   "cell_type": "code",
   "execution_count": 21,
   "id": "another-discovery",
   "metadata": {},
   "outputs": [],
   "source": [
    "for image in valid_other:\n",
    "    copyfile(image, os.path.join(other_val_path, os.path.basename(image)))"
   ]
  },
  {
   "cell_type": "code",
   "execution_count": 22,
   "id": "harmful-tobacco",
   "metadata": {},
   "outputs": [],
   "source": [
    "for image in valid_carvansara:\n",
    "    copyfile(image, os.path.join(caransarea_val_path, os.path.basename(image)))"
   ]
  },
  {
   "cell_type": "code",
   "execution_count": null,
   "id": "productive-child",
   "metadata": {},
   "outputs": [],
   "source": []
  }
 ],
 "metadata": {
  "kernelspec": {
   "display_name": "ai",
   "language": "python",
   "name": "ai"
  },
  "language_info": {
   "codemirror_mode": {
    "name": "ipython",
    "version": 3
   },
   "file_extension": ".py",
   "mimetype": "text/x-python",
   "name": "python",
   "nbconvert_exporter": "python",
   "pygments_lexer": "ipython3",
   "version": "3.8.8"
  }
 },
 "nbformat": 4,
 "nbformat_minor": 5
}

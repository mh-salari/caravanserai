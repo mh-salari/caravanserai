{
 "cells": [
  {
   "cell_type": "code",
   "execution_count": 1,
   "id": "df55b27f",
   "metadata": {},
   "outputs": [],
   "source": [
    "import cv2\n",
    "import torch\n",
    "from PIL import Image\n",
    "import os"
   ]
  },
  {
   "cell_type": "code",
   "execution_count": 2,
   "id": "5113518d",
   "metadata": {},
   "outputs": [],
   "source": [
    "from tqdm.notebook import tqdm"
   ]
  },
  {
   "cell_type": "code",
   "execution_count": 3,
   "id": "9b974d29",
   "metadata": {},
   "outputs": [],
   "source": [
    "def sliding_window(image, stepSize, windowSize):\n",
    "    for y in range(0, image.shape[0], stepSize):\n",
    "        for x in range(0, image.shape[1], stepSize):\n",
    "            yield (x, y, image[y:y + windowSize[1], x:x + windowSize[0]])"
   ]
  },
  {
   "cell_type": "code",
   "execution_count": 4,
   "id": "bbbb7ec7",
   "metadata": {},
   "outputs": [],
   "source": [
    "path = '../Satellite-Aerial-Image-Retrieval/output/'\n",
    "\n",
    "images_path = []\n",
    "# r=root, d=directories, f = files\n",
    "for r, d, f in os.walk(path):\n",
    "    for file in f:\n",
    "        if '.jpeg' in file:\n",
    "            images_path.append(os.path.join(r, file))"
   ]
  },
  {
   "cell_type": "code",
   "execution_count": 5,
   "id": "af4dcf47",
   "metadata": {},
   "outputs": [],
   "source": [
    "model_name = \"yolov5s_576_d15_t0.35_s0.3_bs3_wd0.0.05_lr0.001_newdat\""
   ]
  },
  {
   "cell_type": "code",
   "execution_count": 6,
   "id": "02968d1a",
   "metadata": {},
   "outputs": [
    {
     "name": "stderr",
     "output_type": "stream",
     "text": [
      "Using cache found in /home/hue/.cache/torch/hub/ultralytics_yolov5_master\n",
      "YOLOv5 🚀 2021-9-11 torch 1.9.0+cu102 CUDA:0 (NVIDIA GeForce MX250, 2002.625MB)\n",
      "\n",
      "Fusing layers... \n",
      "Model Summary: 224 layers, 7053910 parameters, 0 gradients, 16.3 GFLOPs\n",
      "Adding AutoShape... \n"
     ]
    }
   ],
   "source": [
    "# Model\n",
    "model = torch.hub.load('ultralytics/yolov5', 'custom', path=f'weights/{model_name}.pt') "
   ]
  },
  {
   "cell_type": "code",
   "execution_count": null,
   "id": "864512e5",
   "metadata": {},
   "outputs": [],
   "source": []
  },
  {
   "cell_type": "code",
   "execution_count": 7,
   "id": "63489441",
   "metadata": {},
   "outputs": [],
   "source": [
    "model.conf = 0.25  # confidence threshold (0-1)\n",
    "model.iou = 0.0  # NMS IoU threshold (0-1)"
   ]
  },
  {
   "cell_type": "code",
   "execution_count": 8,
   "id": "2a18330c",
   "metadata": {},
   "outputs": [],
   "source": [
    "import time"
   ]
  },
  {
   "cell_type": "code",
   "execution_count": 9,
   "id": "9ca14e20",
   "metadata": {},
   "outputs": [
    {
     "data": {
      "application/vnd.jupyter.widget-view+json": {
       "model_id": "252a64ded96449958fbdaefac75678c5",
       "version_major": 2,
       "version_minor": 0
      },
      "text/plain": [
       "HBox(children=(HTML(value=''), FloatProgress(value=0.0, max=3.0), HTML(value='')))"
      ]
     },
     "metadata": {},
     "output_type": "display_data"
    },
    {
     "data": {
      "application/vnd.jupyter.widget-view+json": {
       "model_id": "",
       "version_major": 2,
       "version_minor": 0
      },
      "text/plain": [
       "HBox(children=(HTML(value=''), FloatProgress(value=0.0, max=26.0), HTML(value='')))"
      ]
     },
     "metadata": {},
     "output_type": "display_data"
    },
    {
     "data": {
      "application/vnd.jupyter.widget-view+json": {
       "model_id": "",
       "version_major": 2,
       "version_minor": 0
      },
      "text/plain": [
       "HBox(children=(HTML(value=''), FloatProgress(value=0.0, max=21.0), HTML(value='')))"
      ]
     },
     "metadata": {},
     "output_type": "display_data"
    },
    {
     "data": {
      "application/vnd.jupyter.widget-view+json": {
       "model_id": "",
       "version_major": 2,
       "version_minor": 0
      },
      "text/plain": [
       "HBox(children=(HTML(value=''), FloatProgress(value=0.0, max=22.0), HTML(value='')))"
      ]
     },
     "metadata": {},
     "output_type": "display_data"
    },
    {
     "name": "stdout",
     "output_type": "stream",
     "text": [
      "\n"
     ]
    }
   ],
   "source": [
    "bs = 50\n",
    "for path in tqdm(images_path[:1]):\n",
    "    name = os.path.basename(path)[:-5]\n",
    "    output_path_raw = f\"output/{model_name}/{name}\"\n",
    "    os.makedirs(output_path_raw, exist_ok=True)\n",
    "    output_path_annotated = f\"output/{model_name}/{name}_annotated\"\n",
    "    os.makedirs(output_path_annotated, exist_ok=True)\n",
    "    bgr_image = cv2.imread(path)\n",
    "    image_rgb = cv2.cvtColor(bgr_image,cv2.COLOR_BGR2RGB)  # OpenCV image (BGR to RGB)\n",
    "    tiles = [image for _,_, image in sliding_window(image_rgb, 576, (800, 800)) if image.shape[0]==image.shape[1]]\n",
    "    \n",
    "#     detected_areas = []\n",
    "    for i in tqdm(range(0, len(tiles), bs), leave=False):\n",
    "        raw_chunk = tiles[i:i + bs][:]\n",
    "        chunk = tiles[i:i + bs]\n",
    "        results = model(chunk, size=576)\n",
    "#         results.save()\n",
    "        results.render()\n",
    "        for idx, result in enumerate(results.pred):\n",
    "            if len(result) != 0:\n",
    "#                 detected_areas.append([f\"{name[:-5]}_{i}_{idx}.png\",raw_chunk[idx]])\n",
    "                cv2.imwrite(f\"{output_path_raw}/{name}_{i}_{idx}.png\",  cv2.cvtColor(raw_chunk[idx], cv2.COLOR_RGB2BGR))\n",
    "                cv2.imwrite(f\"{output_path_annotated}/{name}_{i}_{idx}.png\",  cv2.cvtColor(chunk[idx], cv2.COLOR_RGB2BGR))\n",
    "#     tqdm.write(f\"Finding Caravansara in image '{name}' Finished, Sleeping for 1 Min\")\n",
    "#     time.sleep(60)"
   ]
  },
  {
   "cell_type": "code",
   "execution_count": 10,
   "id": "77937c08",
   "metadata": {},
   "outputs": [
    {
     "data": {
      "text/plain": [
       "[tensor([], device='cuda:0', size=(0, 6)),\n",
       " tensor([], device='cuda:0', size=(0, 6)),\n",
       " tensor([], device='cuda:0', size=(0, 6)),\n",
       " tensor([], device='cuda:0', size=(0, 6)),\n",
       " tensor([], device='cuda:0', size=(0, 6)),\n",
       " tensor([], device='cuda:0', size=(0, 6)),\n",
       " tensor([], device='cuda:0', size=(0, 6)),\n",
       " tensor([], device='cuda:0', size=(0, 6)),\n",
       " tensor([], device='cuda:0', size=(0, 6)),\n",
       " tensor([], device='cuda:0', size=(0, 6)),\n",
       " tensor([], device='cuda:0', size=(0, 6)),\n",
       " tensor([], device='cuda:0', size=(0, 6)),\n",
       " tensor([], device='cuda:0', size=(0, 6)),\n",
       " tensor([], device='cuda:0', size=(0, 6)),\n",
       " tensor([], device='cuda:0', size=(0, 6)),\n",
       " tensor([], device='cuda:0', size=(0, 6)),\n",
       " tensor([], device='cuda:0', size=(0, 6)),\n",
       " tensor([], device='cuda:0', size=(0, 6)),\n",
       " tensor([], device='cuda:0', size=(0, 6)),\n",
       " tensor([], device='cuda:0', size=(0, 6)),\n",
       " tensor([], device='cuda:0', size=(0, 6)),\n",
       " tensor([], device='cuda:0', size=(0, 6)),\n",
       " tensor([], device='cuda:0', size=(0, 6)),\n",
       " tensor([], device='cuda:0', size=(0, 6)),\n",
       " tensor([], device='cuda:0', size=(0, 6)),\n",
       " tensor([], device='cuda:0', size=(0, 6)),\n",
       " tensor([], device='cuda:0', size=(0, 6)),\n",
       " tensor([], device='cuda:0', size=(0, 6)),\n",
       " tensor([], device='cuda:0', size=(0, 6)),\n",
       " tensor([], device='cuda:0', size=(0, 6)),\n",
       " tensor([], device='cuda:0', size=(0, 6)),\n",
       " tensor([], device='cuda:0', size=(0, 6)),\n",
       " tensor([], device='cuda:0', size=(0, 6)),\n",
       " tensor([], device='cuda:0', size=(0, 6)),\n",
       " tensor([], device='cuda:0', size=(0, 6)),\n",
       " tensor([], device='cuda:0', size=(0, 6)),\n",
       " tensor([], device='cuda:0', size=(0, 6)),\n",
       " tensor([], device='cuda:0', size=(0, 6)),\n",
       " tensor([], device='cuda:0', size=(0, 6))]"
      ]
     },
     "execution_count": 10,
     "metadata": {},
     "output_type": "execute_result"
    }
   ],
   "source": [
    "results.pred"
   ]
  },
  {
   "cell_type": "code",
   "execution_count": null,
   "id": "4222d1a4",
   "metadata": {},
   "outputs": [],
   "source": [
    "# import matplotlib.pyplot as plt\n",
    "# %matplotlib inline\n",
    "# plt.figure(figsize=(10, 10))\n",
    "# plt.imshow()\n",
    "# plt.show()"
   ]
  },
  {
   "cell_type": "code",
   "execution_count": null,
   "id": "2f428fdd",
   "metadata": {},
   "outputs": [],
   "source": []
  },
  {
   "cell_type": "code",
   "execution_count": null,
   "id": "bfe8d880",
   "metadata": {},
   "outputs": [],
   "source": []
  }
 ],
 "metadata": {
  "kernelspec": {
   "display_name": "Python 3 (ipykernel)",
   "language": "python",
   "name": "python3"
  },
  "language_info": {
   "codemirror_mode": {
    "name": "ipython",
    "version": 3
   },
   "file_extension": ".py",
   "mimetype": "text/x-python",
   "name": "python",
   "nbconvert_exporter": "python",
   "pygments_lexer": "ipython3",
   "version": "3.9.1"
  }
 },
 "nbformat": 4,
 "nbformat_minor": 5
}

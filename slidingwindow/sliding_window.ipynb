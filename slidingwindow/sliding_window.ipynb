{
 "cells": [
  {
   "cell_type": "code",
   "execution_count": 1,
   "id": "df55b27f",
   "metadata": {},
   "outputs": [],
   "source": [
    "import cv2\n",
    "import torch\n",
    "import torchvision.ops.boxes as bops\n",
    "import os"
   ]
  },
  {
   "cell_type": "code",
   "execution_count": 2,
   "id": "d992d9ba",
   "metadata": {},
   "outputs": [],
   "source": [
    "import matplotlib.pyplot as plt\n",
    "%matplotlib inline"
   ]
  },
  {
   "cell_type": "code",
   "execution_count": 3,
   "id": "5113518d",
   "metadata": {},
   "outputs": [],
   "source": [
    "from tqdm.notebook import tqdm"
   ]
  },
  {
   "cell_type": "code",
   "execution_count": 4,
   "id": "9b974d29",
   "metadata": {},
   "outputs": [],
   "source": [
    "def sliding_window(image, stepSize, windowSize):\n",
    "    for y in range(0, image.shape[0], stepSize):\n",
    "        for x in range(0, image.shape[1], stepSize):\n",
    "            yield (x, y, image[y:y + windowSize[1], x:x + windowSize[0]])"
   ]
  },
  {
   "cell_type": "code",
   "execution_count": 5,
   "id": "bbbb7ec7",
   "metadata": {},
   "outputs": [],
   "source": [
    "path = '../Satellite-Aerial-Image-Retrieval/output/'\n",
    "\n",
    "images_path = []\n",
    "# r=root, d=directories, f = files\n",
    "for r, d, f in os.walk(path):\n",
    "    for file in f:\n",
    "        if '.jpeg' in file and \"150m\" not in file: \n",
    "            images_path.append(os.path.join(r, file))\n",
    "images_path.sort()"
   ]
  },
  {
   "cell_type": "code",
   "execution_count": 6,
   "id": "62005c6d",
   "metadata": {},
   "outputs": [],
   "source": [
    "# model_name = \"yolov5s_576_d15_t0.05_s0.4_bs3_wd0.0.05_lr0.001_newdat\""
   ]
  },
  {
   "cell_type": "code",
   "execution_count": 7,
   "id": "af4dcf47",
   "metadata": {},
   "outputs": [],
   "source": [
    "model_name = \"yolov5s_576_d15_t0.35_s0.3_bs3_wd0.0.05_lr0.001_newdat\""
   ]
  },
  {
   "cell_type": "code",
   "execution_count": 8,
   "id": "02968d1a",
   "metadata": {},
   "outputs": [
    {
     "name": "stderr",
     "output_type": "stream",
     "text": [
      "Using cache found in /home/hue/.cache/torch/hub/ultralytics_yolov5_master\n",
      "YOLOv5 🚀 2021-9-11 torch 1.9.0+cu102 CUDA:0 (NVIDIA GeForce MX250, 2002.625MB)\n",
      "\n",
      "Fusing layers... \n",
      "Model Summary: 224 layers, 7053910 parameters, 0 gradients, 16.3 GFLOPs\n",
      "Adding AutoShape... \n"
     ]
    }
   ],
   "source": [
    "# Model\n",
    "model = torch.hub.load('ultralytics/yolov5', 'custom', path=f'weights/{model_name}.pt') "
   ]
  },
  {
   "cell_type": "code",
   "execution_count": 9,
   "id": "40b6758a",
   "metadata": {},
   "outputs": [],
   "source": [
    "fmodel_name = \"last\""
   ]
  },
  {
   "cell_type": "code",
   "execution_count": 10,
   "id": "c6338469",
   "metadata": {},
   "outputs": [
    {
     "name": "stderr",
     "output_type": "stream",
     "text": [
      "Using cache found in /home/hue/.cache/torch/hub/ultralytics_yolov5_master\n",
      "YOLOv5 🚀 2021-9-11 torch 1.9.0+cu102 CUDA:0 (NVIDIA GeForce MX250, 2002.625MB)\n",
      "\n",
      "Fusing layers... \n",
      "Model Summary: 224 layers, 7053910 parameters, 0 gradients, 16.3 GFLOPs\n",
      "Adding AutoShape... \n"
     ]
    }
   ],
   "source": [
    "fmodel = torch.hub.load('ultralytics/yolov5', 'custom', path=f'weights/{fmodel_name}.pt')  "
   ]
  },
  {
   "cell_type": "code",
   "execution_count": 11,
   "id": "864512e5",
   "metadata": {},
   "outputs": [],
   "source": [
    "def plot_bbox(results_xyxy, image, confidence_threshold):\n",
    "    output_image  = image.copy()\n",
    "    for result in results_xyxy:\n",
    "        xmin = int(result[0].item())\n",
    "        ymin = int(result[1].item()) \n",
    "        xmax = int(result[2].item())\n",
    "        ymax = int(result[3].item())\n",
    "        confidence = float(result[4].item())\n",
    "        if confidence >= confidence_threshold:\n",
    "            output_image = cv2.rectangle(output_image, (xmin, ymin), (xmax, ymax), (255, 0, 0), 3)\n",
    "            # Using cv2.putText() method\n",
    "            output_image = cv2.putText(output_image, f'{confidence*100:0.2f}', (xmin+10 ,ymin+30), cv2.FONT_HERSHEY_SIMPLEX, \n",
    "                               0.75, (255, 0, 0), 2, cv2.LINE_AA)\n",
    "    return output_image"
   ]
  },
  {
   "cell_type": "code",
   "execution_count": 12,
   "id": "63489441",
   "metadata": {},
   "outputs": [],
   "source": [
    "model.conf = 0.25  # confidence threshold (0-1)\n",
    "model.iou = 0.0  # NMS IoU threshold (0-1)"
   ]
  },
  {
   "cell_type": "code",
   "execution_count": 14,
   "id": "a6268acc",
   "metadata": {},
   "outputs": [],
   "source": [
    "from itertools import combinations\n",
    "\n",
    "def remove_duplicates(detected_areas, iou_threshold):\n",
    "    areas = detected_areas\n",
    "    coordinates =  list(combinations([coordinate for _, coordinate in detected_areas], 2))\n",
    "    to_removes = []\n",
    "    for box1, box2 in coordinates:\n",
    "        iou = bops.box_iou(torch.tensor([box1], dtype=torch.float), torch.tensor([box2], dtype=torch.float))\n",
    "#         print(iou)\n",
    "        if iou > iou_threshold:\n",
    "#             print(box1, box2)\n",
    "            to_removes.append(box2)\n",
    "    for to_remove in to_removes:\n",
    "        areas = [[image, cordinate] for image, cordinate in areas if cordinate != to_remove]\n",
    "    return areas"
   ]
  },
  {
   "cell_type": "code",
   "execution_count": 15,
   "id": "9ca14e20",
   "metadata": {},
   "outputs": [
    {
     "data": {
      "application/vnd.jupyter.widget-view+json": {
       "model_id": "380dd99b8c894199a0be0e6a33c6744b",
       "version_major": 2,
       "version_minor": 0
      },
      "text/plain": [
       "HBox(children=(HTML(value=''), FloatProgress(value=0.0, max=25.0), HTML(value='')))"
      ]
     },
     "metadata": {},
     "output_type": "display_data"
    },
    {
     "data": {
      "application/vnd.jupyter.widget-view+json": {
       "model_id": "",
       "version_major": 2,
       "version_minor": 0
      },
      "text/plain": [
       "HBox(children=(HTML(value=''), FloatProgress(value=0.0, max=15.0), HTML(value='')))"
      ]
     },
     "metadata": {},
     "output_type": "display_data"
    },
    {
     "data": {
      "application/vnd.jupyter.widget-view+json": {
       "model_id": "",
       "version_major": 2,
       "version_minor": 0
      },
      "text/plain": [
       "HBox(children=(HTML(value=''), FloatProgress(value=0.0, max=1.0), HTML(value='')))"
      ]
     },
     "metadata": {},
     "output_type": "display_data"
    },
    {
     "data": {
      "application/vnd.jupyter.widget-view+json": {
       "model_id": "",
       "version_major": 2,
       "version_minor": 0
      },
      "text/plain": [
       "HBox(children=(HTML(value=''), FloatProgress(value=0.0, max=15.0), HTML(value='')))"
      ]
     },
     "metadata": {},
     "output_type": "display_data"
    },
    {
     "data": {
      "application/vnd.jupyter.widget-view+json": {
       "model_id": "",
       "version_major": 2,
       "version_minor": 0
      },
      "text/plain": [
       "HBox(children=(HTML(value=''), FloatProgress(value=0.0, max=1.0), HTML(value='')))"
      ]
     },
     "metadata": {},
     "output_type": "display_data"
    },
    {
     "data": {
      "application/vnd.jupyter.widget-view+json": {
       "model_id": "",
       "version_major": 2,
       "version_minor": 0
      },
      "text/plain": [
       "HBox(children=(HTML(value=''), FloatProgress(value=0.0, max=15.0), HTML(value='')))"
      ]
     },
     "metadata": {},
     "output_type": "display_data"
    },
    {
     "data": {
      "application/vnd.jupyter.widget-view+json": {
       "model_id": "",
       "version_major": 2,
       "version_minor": 0
      },
      "text/plain": [
       "HBox(children=(HTML(value=''), FloatProgress(value=0.0, max=1.0), HTML(value='')))"
      ]
     },
     "metadata": {},
     "output_type": "display_data"
    },
    {
     "data": {
      "application/vnd.jupyter.widget-view+json": {
       "model_id": "",
       "version_major": 2,
       "version_minor": 0
      },
      "text/plain": [
       "HBox(children=(HTML(value=''), FloatProgress(value=0.0, max=14.0), HTML(value='')))"
      ]
     },
     "metadata": {},
     "output_type": "display_data"
    },
    {
     "data": {
      "application/vnd.jupyter.widget-view+json": {
       "model_id": "",
       "version_major": 2,
       "version_minor": 0
      },
      "text/plain": [
       "HBox(children=(HTML(value=''), FloatProgress(value=0.0, max=1.0), HTML(value='')))"
      ]
     },
     "metadata": {},
     "output_type": "display_data"
    },
    {
     "data": {
      "application/vnd.jupyter.widget-view+json": {
       "model_id": "",
       "version_major": 2,
       "version_minor": 0
      },
      "text/plain": [
       "HBox(children=(HTML(value=''), FloatProgress(value=0.0, max=15.0), HTML(value='')))"
      ]
     },
     "metadata": {},
     "output_type": "display_data"
    },
    {
     "data": {
      "application/vnd.jupyter.widget-view+json": {
       "model_id": "",
       "version_major": 2,
       "version_minor": 0
      },
      "text/plain": [
       "HBox(children=(HTML(value=''), FloatProgress(value=0.0, max=2.0), HTML(value='')))"
      ]
     },
     "metadata": {},
     "output_type": "display_data"
    },
    {
     "data": {
      "application/vnd.jupyter.widget-view+json": {
       "model_id": "",
       "version_major": 2,
       "version_minor": 0
      },
      "text/plain": [
       "HBox(children=(HTML(value=''), FloatProgress(value=0.0, max=13.0), HTML(value='')))"
      ]
     },
     "metadata": {},
     "output_type": "display_data"
    },
    {
     "data": {
      "application/vnd.jupyter.widget-view+json": {
       "model_id": "",
       "version_major": 2,
       "version_minor": 0
      },
      "text/plain": [
       "HBox(children=(HTML(value=''), FloatProgress(value=0.0, max=1.0), HTML(value='')))"
      ]
     },
     "metadata": {},
     "output_type": "display_data"
    },
    {
     "data": {
      "application/vnd.jupyter.widget-view+json": {
       "model_id": "",
       "version_major": 2,
       "version_minor": 0
      },
      "text/plain": [
       "HBox(children=(HTML(value=''), FloatProgress(value=0.0, max=15.0), HTML(value='')))"
      ]
     },
     "metadata": {},
     "output_type": "display_data"
    },
    {
     "data": {
      "application/vnd.jupyter.widget-view+json": {
       "model_id": "",
       "version_major": 2,
       "version_minor": 0
      },
      "text/plain": [
       "HBox(children=(HTML(value=''), FloatProgress(value=0.0, max=2.0), HTML(value='')))"
      ]
     },
     "metadata": {},
     "output_type": "display_data"
    },
    {
     "data": {
      "application/vnd.jupyter.widget-view+json": {
       "model_id": "",
       "version_major": 2,
       "version_minor": 0
      },
      "text/plain": [
       "HBox(children=(HTML(value=''), FloatProgress(value=0.0, max=15.0), HTML(value='')))"
      ]
     },
     "metadata": {},
     "output_type": "display_data"
    },
    {
     "data": {
      "application/vnd.jupyter.widget-view+json": {
       "model_id": "",
       "version_major": 2,
       "version_minor": 0
      },
      "text/plain": [
       "HBox(children=(HTML(value=''), FloatProgress(value=0.0, max=1.0), HTML(value='')))"
      ]
     },
     "metadata": {},
     "output_type": "display_data"
    },
    {
     "data": {
      "application/vnd.jupyter.widget-view+json": {
       "model_id": "",
       "version_major": 2,
       "version_minor": 0
      },
      "text/plain": [
       "HBox(children=(HTML(value=''), FloatProgress(value=0.0, max=15.0), HTML(value='')))"
      ]
     },
     "metadata": {},
     "output_type": "display_data"
    },
    {
     "data": {
      "application/vnd.jupyter.widget-view+json": {
       "model_id": "",
       "version_major": 2,
       "version_minor": 0
      },
      "text/plain": [
       "HBox(children=(HTML(value=''), FloatProgress(value=0.0, max=1.0), HTML(value='')))"
      ]
     },
     "metadata": {},
     "output_type": "display_data"
    },
    {
     "data": {
      "application/vnd.jupyter.widget-view+json": {
       "model_id": "",
       "version_major": 2,
       "version_minor": 0
      },
      "text/plain": [
       "HBox(children=(HTML(value=''), FloatProgress(value=0.0, max=15.0), HTML(value='')))"
      ]
     },
     "metadata": {},
     "output_type": "display_data"
    },
    {
     "data": {
      "application/vnd.jupyter.widget-view+json": {
       "model_id": "",
       "version_major": 2,
       "version_minor": 0
      },
      "text/plain": [
       "HBox(children=(HTML(value=''), FloatProgress(value=0.0, max=1.0), HTML(value='')))"
      ]
     },
     "metadata": {},
     "output_type": "display_data"
    },
    {
     "data": {
      "application/vnd.jupyter.widget-view+json": {
       "model_id": "",
       "version_major": 2,
       "version_minor": 0
      },
      "text/plain": [
       "HBox(children=(HTML(value=''), FloatProgress(value=0.0, max=14.0), HTML(value='')))"
      ]
     },
     "metadata": {},
     "output_type": "display_data"
    },
    {
     "data": {
      "application/vnd.jupyter.widget-view+json": {
       "model_id": "",
       "version_major": 2,
       "version_minor": 0
      },
      "text/plain": [
       "HBox(children=(HTML(value=''), FloatProgress(value=0.0, max=1.0), HTML(value='')))"
      ]
     },
     "metadata": {},
     "output_type": "display_data"
    },
    {
     "data": {
      "application/vnd.jupyter.widget-view+json": {
       "model_id": "",
       "version_major": 2,
       "version_minor": 0
      },
      "text/plain": [
       "HBox(children=(HTML(value=''), FloatProgress(value=0.0, max=15.0), HTML(value='')))"
      ]
     },
     "metadata": {},
     "output_type": "display_data"
    },
    {
     "data": {
      "application/vnd.jupyter.widget-view+json": {
       "model_id": "",
       "version_major": 2,
       "version_minor": 0
      },
      "text/plain": [
       "HBox(children=(HTML(value=''), FloatProgress(value=0.0, max=1.0), HTML(value='')))"
      ]
     },
     "metadata": {},
     "output_type": "display_data"
    },
    {
     "data": {
      "application/vnd.jupyter.widget-view+json": {
       "model_id": "",
       "version_major": 2,
       "version_minor": 0
      },
      "text/plain": [
       "HBox(children=(HTML(value=''), FloatProgress(value=0.0, max=15.0), HTML(value='')))"
      ]
     },
     "metadata": {},
     "output_type": "display_data"
    },
    {
     "data": {
      "application/vnd.jupyter.widget-view+json": {
       "model_id": "",
       "version_major": 2,
       "version_minor": 0
      },
      "text/plain": [
       "HBox(children=(HTML(value=''), FloatProgress(value=0.0, max=1.0), HTML(value='')))"
      ]
     },
     "metadata": {},
     "output_type": "display_data"
    },
    {
     "data": {
      "application/vnd.jupyter.widget-view+json": {
       "model_id": "",
       "version_major": 2,
       "version_minor": 0
      },
      "text/plain": [
       "HBox(children=(HTML(value=''), FloatProgress(value=0.0, max=15.0), HTML(value='')))"
      ]
     },
     "metadata": {},
     "output_type": "display_data"
    },
    {
     "data": {
      "application/vnd.jupyter.widget-view+json": {
       "model_id": "",
       "version_major": 2,
       "version_minor": 0
      },
      "text/plain": [
       "HBox(children=(HTML(value=''), FloatProgress(value=0.0, max=1.0), HTML(value='')))"
      ]
     },
     "metadata": {},
     "output_type": "display_data"
    },
    {
     "data": {
      "application/vnd.jupyter.widget-view+json": {
       "model_id": "",
       "version_major": 2,
       "version_minor": 0
      },
      "text/plain": [
       "HBox(children=(HTML(value=''), FloatProgress(value=0.0, max=14.0), HTML(value='')))"
      ]
     },
     "metadata": {},
     "output_type": "display_data"
    },
    {
     "data": {
      "application/vnd.jupyter.widget-view+json": {
       "model_id": "",
       "version_major": 2,
       "version_minor": 0
      },
      "text/plain": [
       "HBox(children=(HTML(value=''), FloatProgress(value=0.0, max=1.0), HTML(value='')))"
      ]
     },
     "metadata": {},
     "output_type": "display_data"
    },
    {
     "data": {
      "application/vnd.jupyter.widget-view+json": {
       "model_id": "",
       "version_major": 2,
       "version_minor": 0
      },
      "text/plain": [
       "HBox(children=(HTML(value=''), FloatProgress(value=0.0, max=13.0), HTML(value='')))"
      ]
     },
     "metadata": {},
     "output_type": "display_data"
    },
    {
     "data": {
      "application/vnd.jupyter.widget-view+json": {
       "model_id": "",
       "version_major": 2,
       "version_minor": 0
      },
      "text/plain": [
       "HBox(children=(HTML(value=''), FloatProgress(value=0.0, max=1.0), HTML(value='')))"
      ]
     },
     "metadata": {},
     "output_type": "display_data"
    },
    {
     "data": {
      "application/vnd.jupyter.widget-view+json": {
       "model_id": "",
       "version_major": 2,
       "version_minor": 0
      },
      "text/plain": [
       "HBox(children=(HTML(value=''), FloatProgress(value=0.0, max=14.0), HTML(value='')))"
      ]
     },
     "metadata": {},
     "output_type": "display_data"
    },
    {
     "data": {
      "application/vnd.jupyter.widget-view+json": {
       "model_id": "",
       "version_major": 2,
       "version_minor": 0
      },
      "text/plain": [
       "HBox(children=(HTML(value=''), FloatProgress(value=0.0, max=1.0), HTML(value='')))"
      ]
     },
     "metadata": {},
     "output_type": "display_data"
    },
    {
     "data": {
      "application/vnd.jupyter.widget-view+json": {
       "model_id": "",
       "version_major": 2,
       "version_minor": 0
      },
      "text/plain": [
       "HBox(children=(HTML(value=''), FloatProgress(value=0.0, max=13.0), HTML(value='')))"
      ]
     },
     "metadata": {},
     "output_type": "display_data"
    },
    {
     "data": {
      "application/vnd.jupyter.widget-view+json": {
       "model_id": "",
       "version_major": 2,
       "version_minor": 0
      },
      "text/plain": [
       "HBox(children=(HTML(value=''), FloatProgress(value=0.0, max=1.0), HTML(value='')))"
      ]
     },
     "metadata": {},
     "output_type": "display_data"
    },
    {
     "data": {
      "application/vnd.jupyter.widget-view+json": {
       "model_id": "",
       "version_major": 2,
       "version_minor": 0
      },
      "text/plain": [
       "HBox(children=(HTML(value=''), FloatProgress(value=0.0, max=13.0), HTML(value='')))"
      ]
     },
     "metadata": {},
     "output_type": "display_data"
    },
    {
     "data": {
      "application/vnd.jupyter.widget-view+json": {
       "model_id": "",
       "version_major": 2,
       "version_minor": 0
      },
      "text/plain": [
       "HBox(children=(HTML(value=''), FloatProgress(value=0.0, max=1.0), HTML(value='')))"
      ]
     },
     "metadata": {},
     "output_type": "display_data"
    },
    {
     "data": {
      "application/vnd.jupyter.widget-view+json": {
       "model_id": "",
       "version_major": 2,
       "version_minor": 0
      },
      "text/plain": [
       "HBox(children=(HTML(value=''), FloatProgress(value=0.0, max=13.0), HTML(value='')))"
      ]
     },
     "metadata": {},
     "output_type": "display_data"
    },
    {
     "data": {
      "application/vnd.jupyter.widget-view+json": {
       "model_id": "",
       "version_major": 2,
       "version_minor": 0
      },
      "text/plain": [
       "HBox(children=(HTML(value=''), FloatProgress(value=0.0, max=1.0), HTML(value='')))"
      ]
     },
     "metadata": {},
     "output_type": "display_data"
    },
    {
     "data": {
      "application/vnd.jupyter.widget-view+json": {
       "model_id": "",
       "version_major": 2,
       "version_minor": 0
      },
      "text/plain": [
       "HBox(children=(HTML(value=''), FloatProgress(value=0.0, max=13.0), HTML(value='')))"
      ]
     },
     "metadata": {},
     "output_type": "display_data"
    },
    {
     "data": {
      "application/vnd.jupyter.widget-view+json": {
       "model_id": "",
       "version_major": 2,
       "version_minor": 0
      },
      "text/plain": [
       "HBox(children=(HTML(value=''), FloatProgress(value=0.0, max=1.0), HTML(value='')))"
      ]
     },
     "metadata": {},
     "output_type": "display_data"
    },
    {
     "data": {
      "application/vnd.jupyter.widget-view+json": {
       "model_id": "",
       "version_major": 2,
       "version_minor": 0
      },
      "text/plain": [
       "HBox(children=(HTML(value=''), FloatProgress(value=0.0, max=13.0), HTML(value='')))"
      ]
     },
     "metadata": {},
     "output_type": "display_data"
    },
    {
     "data": {
      "application/vnd.jupyter.widget-view+json": {
       "model_id": "",
       "version_major": 2,
       "version_minor": 0
      },
      "text/plain": [
       "HBox(children=(HTML(value=''), FloatProgress(value=0.0, max=1.0), HTML(value='')))"
      ]
     },
     "metadata": {},
     "output_type": "display_data"
    },
    {
     "data": {
      "application/vnd.jupyter.widget-view+json": {
       "model_id": "",
       "version_major": 2,
       "version_minor": 0
      },
      "text/plain": [
       "HBox(children=(HTML(value=''), FloatProgress(value=0.0, max=14.0), HTML(value='')))"
      ]
     },
     "metadata": {},
     "output_type": "display_data"
    },
    {
     "data": {
      "application/vnd.jupyter.widget-view+json": {
       "model_id": "",
       "version_major": 2,
       "version_minor": 0
      },
      "text/plain": [
       "HBox(children=(HTML(value=''), FloatProgress(value=0.0, max=1.0), HTML(value='')))"
      ]
     },
     "metadata": {},
     "output_type": "display_data"
    },
    {
     "data": {
      "application/vnd.jupyter.widget-view+json": {
       "model_id": "",
       "version_major": 2,
       "version_minor": 0
      },
      "text/plain": [
       "HBox(children=(HTML(value=''), FloatProgress(value=0.0, max=12.0), HTML(value='')))"
      ]
     },
     "metadata": {},
     "output_type": "display_data"
    },
    {
     "data": {
      "application/vnd.jupyter.widget-view+json": {
       "model_id": "",
       "version_major": 2,
       "version_minor": 0
      },
      "text/plain": [
       "HBox(children=(HTML(value=''), FloatProgress(value=0.0, max=1.0), HTML(value='')))"
      ]
     },
     "metadata": {},
     "output_type": "display_data"
    },
    {
     "data": {
      "application/vnd.jupyter.widget-view+json": {
       "model_id": "",
       "version_major": 2,
       "version_minor": 0
      },
      "text/plain": [
       "HBox(children=(HTML(value=''), FloatProgress(value=0.0, max=14.0), HTML(value='')))"
      ]
     },
     "metadata": {},
     "output_type": "display_data"
    },
    {
     "data": {
      "application/vnd.jupyter.widget-view+json": {
       "model_id": "",
       "version_major": 2,
       "version_minor": 0
      },
      "text/plain": [
       "HBox(children=(HTML(value=''), FloatProgress(value=0.0, max=1.0), HTML(value='')))"
      ]
     },
     "metadata": {},
     "output_type": "display_data"
    },
    {
     "name": "stdout",
     "output_type": "stream",
     "text": [
      "\n"
     ]
    }
   ],
   "source": [
    "bs = 50\n",
    "for path in tqdm(images_path[:]):\n",
    "    name = os.path.basename(path)[:-5]\n",
    "#     output_path_raw = f\"output/{model_name}/{name}\"\n",
    "#     os.makedirs(output_path_raw, exist_ok=True)\n",
    "    output_path_annotated = f\"output/{model_name}/{name}_annotated\"\n",
    "    os.makedirs(output_path_annotated, exist_ok=True)\n",
    "    bgr_image = cv2.imread(path)\n",
    "    input_max_x, input_max_y, _ = bgr_image.shape\n",
    "    image_rgb = cv2.cvtColor(bgr_image,cv2.COLOR_BGR2RGB)  # OpenCV image (BGR to RGB)\n",
    "    tiles = [[image, (x,y)] for x,y, image in sliding_window(image_rgb, 750, (1000, 1000)) if image.shape[0]==image.shape[1]]\n",
    "    \n",
    "    detected_areas = []\n",
    "    for i in tqdm(range(0, len(tiles), bs), leave=False):\n",
    "        chunk = tiles[i:i + bs]\n",
    "        images = [image for image, _  in chunk]\n",
    "        results = model(images, size=576)\n",
    "#         results.save()\n",
    "        results.render()\n",
    "        for idx, result in enumerate(results.pred):\n",
    "            if len(result) != 0:\n",
    "                x,y = chunk[idx][1]\n",
    "                for result in results.xyxy[idx]:\n",
    "                    xmin = int(result[0].item())\n",
    "                    ymin = int(result[1].item()) \n",
    "                    xmax = int(result[2].item())\n",
    "                    ymax = int(result[3].item())  \n",
    "                    \n",
    "                    yb = y+(ymin+ymax)//2-450\n",
    "                    if yb<0:\n",
    "                        yb = 0\n",
    "                        \n",
    "                    yt = y+(ymin+ymax)//2+550\n",
    "                    if yt > input_max_y:\n",
    "                        yt = input_max_y\n",
    "                        \n",
    "                    xl = x+(xmin+xmax)//2-480\n",
    "                    if xl < 0:\n",
    "                        xl = 0\n",
    "                        \n",
    "                    xr = x+(xmin+xmax)//2+520\n",
    "                    if xr > input_max_x:\n",
    "                        xr = input_max_x\n",
    "                        \n",
    "                    new_image = image_rgb[yb:yt,xl:xr]\n",
    "                    detected_areas.append([new_image, (xl, yb,xr, yt)])\n",
    "#                 cv2.imwrite(f\"{output_path_raw}/{name}_{i}_{idx}.png\",  cv2.cvtColor(chunk[idx][0], cv2.COLOR_RGB2BGR))\n",
    "                cv2.imwrite(f\"{output_path_annotated}/{name}_{i}_{idx}.png\",  cv2.cvtColor(images[idx], cv2.COLOR_RGB2BGR))\n",
    "    \n",
    "#     output_path_final = f\"output/{model_name}/{name}_scale_invariant\"\n",
    "#     os.makedirs(output_path_final, exist_ok=True)\n",
    "    detected_areas = remove_duplicates(detected_areas, 0.50)\n",
    "    confidence_threshold = 0.5\n",
    "    \n",
    "#     for i in tqdm(range(0, len(detected_areas), bs), leave=False):\n",
    "#         chunk = detected_areas[i:i + bs]\n",
    "#         images = [image for image, _  in chunk]\n",
    "#         nresults = fmodel(images, size=576)\n",
    "        \n",
    "#         for idx in range(len(nresults)):\n",
    "#             results_xyxy = nresults.xyxy[idx] \n",
    "#             if len(results_xyxy) == 0:\n",
    "#                 continue\n",
    "#             confidence = [float(result_xyxy[4].item()) for result_xyxy in results_xyxy]\n",
    "#             if max(confidence) >= confidence_threshold:\n",
    "#                 image = images[idx]\n",
    "#                 cv2.imwrite(f\"{output_path_final}/{name}_{idx}.png\",\n",
    "#                             cv2.cvtColor(plot_bbox(results_xyxy, image, confidence_threshold), cv2.COLOR_RGB2BGR))\n",
    "\n",
    "    output_path_final = f\"output/{model_name}/{name}_filtered\"\n",
    "    os.makedirs(output_path_final, exist_ok=True)\n",
    "\n",
    "    \n",
    "    for i in tqdm(range(0, len(detected_areas), bs), leave=False):\n",
    "        chunk = detected_areas[i:i + bs]\n",
    "        images = [image for image, _  in chunk]\n",
    "        nresults = model(images, size=576)\n",
    "        \n",
    "        for idx in range(len(nresults)):\n",
    "            results_xyxy = nresults.xyxy[idx] \n",
    "            if len(results_xyxy) == 0:\n",
    "                continue\n",
    "            confidence = [float(result_xyxy[4].item()) for result_xyxy in results_xyxy]\n",
    "            if max(confidence) >= confidence_threshold:\n",
    "                image = images[idx]\n",
    "                image = cv2.cvtColor(plot_bbox(results_xyxy, image, confidence_threshold), cv2.COLOR_RGB2BGR)\n",
    "                image = cv2.resize(image,(600,600), interpolation = cv2.INTER_AREA)\n",
    "                 \n",
    "                cv2.imwrite(f\"{output_path_final}/{name}_{idx}.png\",\n",
    "                            image,\n",
    "                            [int(cv2.IMWRITE_PNG_COMPRESSION),5])\n"
   ]
  },
  {
   "cell_type": "code",
   "execution_count": null,
   "id": "f153e13d",
   "metadata": {},
   "outputs": [],
   "source": [
    "# https://stackoverflow.com/questions/25349178/calculating-percentage-of-bounding-box-overlap-for-image-detector-evaluation"
   ]
  },
  {
   "cell_type": "code",
   "execution_count": null,
   "id": "12c42a32",
   "metadata": {},
   "outputs": [],
   "source": [
    "len(detected_areas)"
   ]
  },
  {
   "cell_type": "code",
   "execution_count": null,
   "id": "b25c3feb",
   "metadata": {},
   "outputs": [],
   "source": [
    "detected_areas = remove_duplicates(detected_areas, 0.50)"
   ]
  },
  {
   "cell_type": "code",
   "execution_count": null,
   "id": "4222d1a4",
   "metadata": {},
   "outputs": [],
   "source": [
    "# plt.figure(figsize=(10, 10))\n",
    "# plt.imshow(detected_areas[4][0])\n",
    "# plt.show()"
   ]
  },
  {
   "cell_type": "code",
   "execution_count": null,
   "id": "9f2edd95",
   "metadata": {},
   "outputs": [],
   "source": [
    "len(detected_areas)"
   ]
  },
  {
   "cell_type": "code",
   "execution_count": null,
   "id": "3db80124",
   "metadata": {},
   "outputs": [],
   "source": [
    "detected_areas[:][1]"
   ]
  },
  {
   "cell_type": "code",
   "execution_count": null,
   "id": "f2dd4e11",
   "metadata": {},
   "outputs": [],
   "source": []
  }
 ],
 "metadata": {
  "kernelspec": {
   "display_name": "Python 3 (ipykernel)",
   "language": "python",
   "name": "python3"
  },
  "language_info": {
   "codemirror_mode": {
    "name": "ipython",
    "version": 3
   },
   "file_extension": ".py",
   "mimetype": "text/x-python",
   "name": "python",
   "nbconvert_exporter": "python",
   "pygments_lexer": "ipython3",
   "version": "3.9.1"
  }
 },
 "nbformat": 4,
 "nbformat_minor": 5
}
